{
 "cells": [
  {
   "cell_type": "markdown",
   "metadata": {},
   "source": [
    "### Importing Relevant Packages"
   ]
  },
  {
   "cell_type": "code",
   "execution_count": 437,
   "metadata": {},
   "outputs": [],
   "source": [
    "import pandas as pd\n",
    "import numpy\n",
    "import matplotlib.pyplot as plt\n",
    "import seaborn as sns"
   ]
  },
  {
   "cell_type": "code",
   "execution_count": 438,
   "metadata": {},
   "outputs": [],
   "source": [
    "#defining path variable where datasets are present\n",
    "file_path=\"C:/Users/HARITHA/Desktop/upgrad_mahee/\""
   ]
  },
  {
   "cell_type": "markdown",
   "metadata": {},
   "source": [
    "#  Checkpoint 1: Data Understanding & Data Cleaning "
   ]
  },
  {
   "cell_type": "markdown",
   "metadata": {},
   "source": [
    "##### Importing dataset\n",
    "##### we could see that ‘company_permalink’ column contains names of companies in various countries, and hence various languages.\n",
    "##### Thus using encoder ISO-8859-1"
   ]
  },
  {
   "cell_type": "code",
   "execution_count": 439,
   "metadata": {},
   "outputs": [],
   "source": [
    "companies= pd.read_csv(file_path+\"companies.txt\",sep=\"\\t\",engine='python',encoding=\"ISO-8859-1\")\n",
    "rounds2=pd.read_csv(file_path+\"rounds2.csv\",engine='python',encoding=\"ISO-8859-1\")\n",
    "mapping=pd.read_csv(file_path+\"mapping.csv\",engine='python')"
   ]
  },
  {
   "cell_type": "markdown",
   "metadata": {},
   "source": [
    "###### converting values in permalink to lower case for analysis and find unique values and key column"
   ]
  },
  {
   "cell_type": "code",
   "execution_count": 440,
   "metadata": {},
   "outputs": [
    {
     "name": "stdout",
     "output_type": "stream",
     "text": [
      "unique compaies in companies dataframe:66368\n",
      "In the companies data frame, which column can be used as the unique key for each company?\n",
      "company_permalink\n"
     ]
    }
   ],
   "source": [
    "companies['permalink']=companies['permalink'].str.lower()\n",
    "print (\"unique compaies in companies dataframe:{}\".format(companies['permalink'].nunique()))\n",
    "#In the companies data frame, which column can be used as the unique key for each company?\n",
    "print(\"In the companies data frame, which column can be used as the unique key for each company?\")\n",
    "print(\"company_permalink\")"
   ]
  },
  {
   "cell_type": "markdown",
   "metadata": {},
   "source": [
    "##### converting values in company_permalink to lower case for analysis and find unique values and key column"
   ]
  },
  {
   "cell_type": "code",
   "execution_count": 441,
   "metadata": {},
   "outputs": [
    {
     "name": "stdout",
     "output_type": "stream",
     "text": [
      "unique compaies in rounds2 dataframe:66370\n"
     ]
    }
   ],
   "source": [
    "rounds2['company_permalink']=rounds2['company_permalink'].str.lower()\n",
    "print (\"unique compaies in rounds2 dataframe:{}\".format(rounds2['company_permalink'].nunique()))"
   ]
  },
  {
   "cell_type": "code",
   "execution_count": 442,
   "metadata": {},
   "outputs": [
    {
     "name": "stdout",
     "output_type": "stream",
     "text": [
      "Are there any companies in the rounds2 file which are not present in companies?\n",
      "Y\n"
     ]
    }
   ],
   "source": [
    "#Are there any companies in the rounds2 file which are not present in companies?\n",
    "print(\"Are there any companies in the rounds2 file which are not present in companies?\")\n",
    "DF1= pd.DataFrame(rounds2.company_permalink.unique())\n",
    "DF2 = pd.DataFrame(companies.permalink.unique())\n",
    "DF2.equals(DF1)\n",
    "print(\"Y\")"
   ]
  },
  {
   "cell_type": "markdown",
   "metadata": {},
   "source": [
    "##### Merging two dataframes companies & rounds2 to master_frame"
   ]
  },
  {
   "cell_type": "code",
   "execution_count": 443,
   "metadata": {},
   "outputs": [],
   "source": [
    "#How many observations are present in master_frame?\n",
    "#Merging the dataframes to master_frame\n",
    "#Renaming companies column permalink to company_permalink for merging\n",
    "companies=companies.rename(columns={'permalink':'company_permalink'})\n",
    "master_frame = pd.merge(rounds2,companies, how='left', on=['company_permalink'])"
   ]
  },
  {
   "cell_type": "code",
   "execution_count": 444,
   "metadata": {},
   "outputs": [
    {
     "name": "stdout",
     "output_type": "stream",
     "text": [
      "master_frame shape :(114949, 15)\n",
      "How many observations are present in master_frame?\n",
      "114949\n"
     ]
    }
   ],
   "source": [
    "print (\"master_frame shape :{}\".format(master_frame.shape))\n",
    "print(\"How many observations are present in master_frame?\")\n",
    "print(len(master_frame.index))"
   ]
  },
  {
   "cell_type": "markdown",
   "metadata": {},
   "source": [
    "## Cleaning Data "
   ]
  },
  {
   "cell_type": "markdown",
   "metadata": {},
   "source": [
    "##### Inspecting the Null values in percentage column-wise:"
   ]
  },
  {
   "cell_type": "code",
   "execution_count": 445,
   "metadata": {},
   "outputs": [
    {
     "name": "stdout",
     "output_type": "stream",
     "text": [
      "company_permalink          0.000\n",
      "funding_round_permalink    0.000\n",
      "funding_round_type         0.000\n",
      "funding_round_code        72.910\n",
      "funded_at                  0.000\n",
      "raised_amount_usd         17.390\n",
      "name                       0.010\n",
      "homepage_url               5.340\n",
      "category_list              2.970\n",
      "status                     0.010\n",
      "country_code               7.550\n",
      "state_code                 9.520\n",
      "region                     8.840\n",
      "city                       8.840\n",
      "founded_at                17.860\n",
      "dtype: float64\n"
     ]
    }
   ],
   "source": [
    "print(round(100*(master_frame.isnull().sum()/len(master_frame.index)), 2))"
   ]
  },
  {
   "cell_type": "markdown",
   "metadata": {},
   "source": [
    "##### keeping only relevant data for analysis & Dropping columns which are not required for Spark funds analysis:"
   ]
  },
  {
   "cell_type": "markdown",
   "metadata": {},
   "source": [
    "######### Here assumption made is that having so much of irrelevant data makes computation time larger. Thus removing 'funding_round_code','funding_round_permalink', 'funded_at','homepage_url', 'state_code','region','city','founded_at' columns and removing null records from category_list,country_code which are of no use for analysis.Also removing funding_round_type =undisclosed type as we are interested in only known sectors."
   ]
  },
  {
   "cell_type": "code",
   "execution_count": 446,
   "metadata": {},
   "outputs": [
    {
     "name": "stdout",
     "output_type": "stream",
     "text": [
      "master_frame shape :(100572, 7)\n"
     ]
    }
   ],
   "source": [
    "master_frame=master_frame.drop(columns=['funding_round_code','funding_round_permalink','funded_at','homepage_url', 'state_code','region','city','founded_at'],axis=1)\n",
    "#Removing null rows present in country_code which are of no use for analysis:\n",
    "master_frame=master_frame.dropna(subset = ['country_code'])\n",
    "#Removing null rows present in category_list which are of no use for analysis:\n",
    "master_frame=master_frame.dropna(subset = ['category_list'])\n",
    "#Removing \"undisclosed\" values present in funding_round_type which are of no use for analysis:\n",
    "master_frame.drop(master_frame[master_frame['funding_round_type'] == \"undisclosed\" ].index , inplace=True)\n",
    "print (\"master_frame shape :{}\".format(master_frame.shape))"
   ]
  },
  {
   "cell_type": "markdown",
   "metadata": {},
   "source": [
    "##### Inspecting the Null values in percentage column-wise after deletion:"
   ]
  },
  {
   "cell_type": "code",
   "execution_count": 447,
   "metadata": {},
   "outputs": [
    {
     "name": "stdout",
     "output_type": "stream",
     "text": [
      "company_permalink     0.000\n",
      "funding_round_type    0.000\n",
      "raised_amount_usd    13.310\n",
      "name                  0.000\n",
      "category_list         0.000\n",
      "status                0.000\n",
      "country_code          0.000\n",
      "dtype: float64\n"
     ]
    }
   ],
   "source": [
    "print(round(100*(master_frame.isnull().sum()/len(master_frame.index)), 2))"
   ]
  },
  {
   "cell_type": "markdown",
   "metadata": {},
   "source": [
    "###### Imputing raised_amount_usd with median as there is large percentage of null values in this column:"
   ]
  },
  {
   "cell_type": "markdown",
   "metadata": {},
   "source": [
    "######## Assumption: Here imputing meadian is chosen as it is the most represented value for raised_amount_usd for each funding_round_type"
   ]
  },
  {
   "cell_type": "code",
   "execution_count": 448,
   "metadata": {},
   "outputs": [
    {
     "name": "stdout",
     "output_type": "stream",
     "text": [
      "null values before imputing the null values in raised_amount_usd column:\n",
      "13388\n",
      "null values after imputing the null values in raised_amount_usd column:\n",
      "0\n",
      "master_frame shape :(100572, 7)\n"
     ]
    }
   ],
   "source": [
    "print(\"null values before imputing the null values in raised_amount_usd column:\")\n",
    "print(sum(pd.isnull(master_frame['raised_amount_usd'])))\n",
    "master_frame[\"raised_amount_usd\"] = master_frame.groupby(\"funding_round_type\").transform(lambda x: x.fillna(x.median()))\n",
    "print(\"null values after imputing the null values in raised_amount_usd column:\")\n",
    "print(sum(pd.isnull(master_frame['raised_amount_usd'])))\n",
    "print (\"master_frame shape :{}\".format(master_frame.shape))"
   ]
  },
  {
   "cell_type": "markdown",
   "metadata": {},
   "source": [
    "##### Identifying outliers using scatter plots:"
   ]
  },
  {
   "cell_type": "code",
   "execution_count": 449,
   "metadata": {},
   "outputs": [
    {
     "data": {
      "image/png": "[encoded data removed]",
      "text/plain": [
       "<Figure size 432x288 with 1 Axes>"
      ]
     },
     "metadata": {},
     "output_type": "display_data"
    }
   ],
   "source": [
    "import matplotlib.pyplot as plt\n",
    "import scipy, pylab\n",
    "master_frame1 = master_frame.reset_index()\n",
    "plt.scatter(master_frame1['index'],master_frame1['raised_amount_usd'])\n",
    "# Set axis limits to show the markers completely\n",
    "plt.xlabel('index')\n",
    "plt.ylabel('raised_amount_usd')\n",
    "plt.xlim(0, 100000)\n",
    "plt.ylim(0, 5000000000)\n",
    "plt.show()"
   ]
  },
  {
   "cell_type": "markdown",
   "metadata": {},
   "source": [
    "###### removing outliers and again scatter plot to check the outliers,if any:"
   ]
  },
  {
   "cell_type": "code",
   "execution_count": 450,
   "metadata": {},
   "outputs": [
    {
     "data": {
      "image/png": "[encoded data removed]",
      "text/plain": [
       "<Figure size 432x288 with 1 Axes>"
      ]
     },
     "metadata": {},
     "output_type": "display_data"
    }
   ],
   "source": [
    "master_frame.drop(master_frame[(master_frame['raised_amount_usd'] >= 3000000000) ].index,inplace = True) \n",
    "master_frame1 = master_frame.reset_index()\n",
    "plt.scatter(master_frame1['index'],master_frame1['raised_amount_usd'])\n",
    "# Set axis limits to show the markers completely\n",
    "plt.xlabel('index')\n",
    "plt.ylabel('raised_amount_usd')\n",
    "plt.xlim(0, 100000)\n",
    "plt.ylim(0, 5000000000) \n",
    "plt.show()"
   ]
  },
  {
   "cell_type": "code",
   "execution_count": 451,
   "metadata": {},
   "outputs": [
    {
     "name": "stdout",
     "output_type": "stream",
     "text": [
      "Master_frame shape after removing outliers\n",
      "master_frame shape :(100561, 7)\n"
     ]
    }
   ],
   "source": [
    "#master_frame observations we are left with after removing outliers with scatter plot\n",
    "print(\"Master_frame shape after removing outliers\")\n",
    "print (\"master_frame shape :{}\".format(master_frame.shape))"
   ]
  },
  {
   "cell_type": "markdown",
   "metadata": {},
   "source": [
    "###### Calculating z-score "
   ]
  },
  {
   "cell_type": "code",
   "execution_count": 452,
   "metadata": {},
   "outputs": [
    {
     "name": "stdout",
     "output_type": "stream",
     "text": [
      "[0.03613028 0.09019702 0.1988385  ... 0.21548053 0.21569456 0.2160647 ]\n"
     ]
    }
   ],
   "source": [
    "#Calculating z-score to perform cleanup:\n",
    "from scipy import stats\n",
    "import numpy as np\n",
    "z = np.abs(stats.zscore(master_frame['raised_amount_usd'] ))\n",
    "print(z)"
   ]
  },
  {
   "cell_type": "markdown",
   "metadata": {},
   "source": [
    "##### removing outliers using z-score:\n",
    "##### here threshold is considered as -3 < z < 3 as this is the standard range for z-score where the data has not much effect on analysis."
   ]
  },
  {
   "cell_type": "code",
   "execution_count": 453,
   "metadata": {},
   "outputs": [
    {
     "name": "stdout",
     "output_type": "stream",
     "text": [
      "master_frame shape :(99818, 7)\n"
     ]
    }
   ],
   "source": [
    "threshold = 3\n",
    "master_frame= master_frame[(z < 3)]\n",
    "print (\"master_frame shape :{}\".format(master_frame.shape))"
   ]
  },
  {
   "cell_type": "code",
   "execution_count": 454,
   "metadata": {},
   "outputs": [
    {
     "data": {
      "text/html": [
       "<div>\n",
       "<style scoped>\n",
       "    .dataframe tbody tr th:only-of-type {\n",
       "        vertical-align: middle;\n",
       "    }\n",
       "\n",
       "    .dataframe tbody tr th {\n",
       "        vertical-align: top;\n",
       "    }\n",
       "\n",
       "    .dataframe thead th {\n",
       "        text-align: right;\n",
       "    }\n",
       "</style>\n",
       "<table border=\"1\" class=\"dataframe\">\n",
       "  <thead>\n",
       "    <tr style=\"text-align: right;\">\n",
       "      <th></th>\n",
       "      <th>company_permalink</th>\n",
       "      <th>funding_round_type</th>\n",
       "      <th>raised_amount_usd</th>\n",
       "      <th>name</th>\n",
       "      <th>category_list</th>\n",
       "      <th>status</th>\n",
       "      <th>country_code</th>\n",
       "    </tr>\n",
       "  </thead>\n",
       "  <tbody>\n",
       "    <tr>\n",
       "      <td>0</td>\n",
       "      <td>/organization/-fame</td>\n",
       "      <td>venture</td>\n",
       "      <td>10000000.000</td>\n",
       "      <td>#fame</td>\n",
       "      <td>Media</td>\n",
       "      <td>operating</td>\n",
       "      <td>IND</td>\n",
       "    </tr>\n",
       "    <tr>\n",
       "      <td>1</td>\n",
       "      <td>/organization/-qounter</td>\n",
       "      <td>venture</td>\n",
       "      <td>5000000.000</td>\n",
       "      <td>:Qounter</td>\n",
       "      <td>Application Platforms|Real Time|Social Network...</td>\n",
       "      <td>operating</td>\n",
       "      <td>USA</td>\n",
       "    </tr>\n",
       "    <tr>\n",
       "      <td>2</td>\n",
       "      <td>/organization/-qounter</td>\n",
       "      <td>seed</td>\n",
       "      <td>700000.000</td>\n",
       "      <td>:Qounter</td>\n",
       "      <td>Application Platforms|Real Time|Social Network...</td>\n",
       "      <td>operating</td>\n",
       "      <td>USA</td>\n",
       "    </tr>\n",
       "    <tr>\n",
       "      <td>4</td>\n",
       "      <td>/organization/0-6-com</td>\n",
       "      <td>venture</td>\n",
       "      <td>2000000.000</td>\n",
       "      <td>0-6.com</td>\n",
       "      <td>Curated Web</td>\n",
       "      <td>operating</td>\n",
       "      <td>CHN</td>\n",
       "    </tr>\n",
       "    <tr>\n",
       "      <td>5</td>\n",
       "      <td>/organization/004-technologies</td>\n",
       "      <td>venture</td>\n",
       "      <td>5000000.000</td>\n",
       "      <td>004 Technologies</td>\n",
       "      <td>Software</td>\n",
       "      <td>operating</td>\n",
       "      <td>USA</td>\n",
       "    </tr>\n",
       "  </tbody>\n",
       "</table>\n",
       "</div>"
      ],
      "text/plain": [
       "                company_permalink funding_round_type  raised_amount_usd  \\\n",
       "0             /organization/-fame            venture       10000000.000   \n",
       "1          /organization/-qounter            venture        5000000.000   \n",
       "2          /organization/-qounter               seed         700000.000   \n",
       "4           /organization/0-6-com            venture        2000000.000   \n",
       "5  /organization/004-technologies            venture        5000000.000   \n",
       "\n",
       "               name                                      category_list  \\\n",
       "0             #fame                                              Media   \n",
       "1          :Qounter  Application Platforms|Real Time|Social Network...   \n",
       "2          :Qounter  Application Platforms|Real Time|Social Network...   \n",
       "4           0-6.com                                        Curated Web   \n",
       "5  004 Technologies                                           Software   \n",
       "\n",
       "      status country_code  \n",
       "0  operating          IND  \n",
       "1  operating          USA  \n",
       "2  operating          USA  \n",
       "4  operating          CHN  \n",
       "5  operating          USA  "
      ]
     },
     "execution_count": 454,
     "metadata": {},
     "output_type": "execute_result"
    }
   ],
   "source": [
    "#Master_frame used for our analysis is represented here (first 5 in 99818 rows with 7 columns of master_frame):\n",
    "master_frame.head(5)"
   ]
  },
  {
   "cell_type": "markdown",
   "metadata": {},
   "source": [
    "# Checkpoint 2: Funding Type Analysis"
   ]
  },
  {
   "cell_type": "markdown",
   "metadata": {},
   "source": [
    "##### Observing the count of each funding type :"
   ]
  },
  {
   "cell_type": "code",
   "execution_count": 455,
   "metadata": {},
   "outputs": [
    {
     "data": {
      "text/html": [
       "<div>\n",
       "<style scoped>\n",
       "    .dataframe tbody tr th:only-of-type {\n",
       "        vertical-align: middle;\n",
       "    }\n",
       "\n",
       "    .dataframe tbody tr th {\n",
       "        vertical-align: top;\n",
       "    }\n",
       "\n",
       "    .dataframe thead th {\n",
       "        text-align: right;\n",
       "    }\n",
       "</style>\n",
       "<table border=\"1\" class=\"dataframe\">\n",
       "  <thead>\n",
       "    <tr style=\"text-align: right;\">\n",
       "      <th></th>\n",
       "      <th>count_of_investments</th>\n",
       "    </tr>\n",
       "    <tr>\n",
       "      <th>funding_type</th>\n",
       "      <th></th>\n",
       "    </tr>\n",
       "  </thead>\n",
       "  <tbody>\n",
       "    <tr>\n",
       "      <td>venture</td>\n",
       "      <td>51745</td>\n",
       "    </tr>\n",
       "    <tr>\n",
       "      <td>seed</td>\n",
       "      <td>26436</td>\n",
       "    </tr>\n",
       "    <tr>\n",
       "      <td>debt_financing</td>\n",
       "      <td>6578</td>\n",
       "    </tr>\n",
       "    <tr>\n",
       "      <td>angel</td>\n",
       "      <td>5416</td>\n",
       "    </tr>\n",
       "    <tr>\n",
       "      <td>equity_crowdfunding</td>\n",
       "      <td>2970</td>\n",
       "    </tr>\n",
       "    <tr>\n",
       "      <td>grant</td>\n",
       "      <td>1990</td>\n",
       "    </tr>\n",
       "    <tr>\n",
       "      <td>private_equity</td>\n",
       "      <td>1812</td>\n",
       "    </tr>\n",
       "    <tr>\n",
       "      <td>convertible_note</td>\n",
       "      <td>1632</td>\n",
       "    </tr>\n",
       "    <tr>\n",
       "      <td>post_ipo_equity</td>\n",
       "      <td>548</td>\n",
       "    </tr>\n",
       "    <tr>\n",
       "      <td>product_crowdfunding</td>\n",
       "      <td>351</td>\n",
       "    </tr>\n",
       "    <tr>\n",
       "      <td>non_equity_assistance</td>\n",
       "      <td>136</td>\n",
       "    </tr>\n",
       "    <tr>\n",
       "      <td>post_ipo_debt</td>\n",
       "      <td>122</td>\n",
       "    </tr>\n",
       "    <tr>\n",
       "      <td>secondary_market</td>\n",
       "      <td>82</td>\n",
       "    </tr>\n",
       "  </tbody>\n",
       "</table>\n",
       "</div>"
      ],
      "text/plain": [
       "                       count_of_investments\n",
       "funding_type                               \n",
       "venture                               51745\n",
       "seed                                  26436\n",
       "debt_financing                         6578\n",
       "angel                                  5416\n",
       "equity_crowdfunding                    2970\n",
       "grant                                  1990\n",
       "private_equity                         1812\n",
       "convertible_note                       1632\n",
       "post_ipo_equity                         548\n",
       "product_crowdfunding                    351\n",
       "non_equity_assistance                   136\n",
       "post_ipo_debt                           122\n",
       "secondary_market                         82"
      ]
     },
     "execution_count": 455,
     "metadata": {},
     "output_type": "execute_result"
    }
   ],
   "source": [
    "funding_rounds=master_frame['funding_round_type'].value_counts().rename_axis('funding_type').to_frame('count_of_investments')\n",
    "funding_rounds"
   ]
  },
  {
   "cell_type": "markdown",
   "metadata": {},
   "source": [
    "#### Considering four types of funding i.e., seed,angel,venture,private_equity required for table 2.1"
   ]
  },
  {
   "cell_type": "code",
   "execution_count": 456,
   "metadata": {},
   "outputs": [
    {
     "data": {
      "text/html": [
       "<div>\n",
       "<style scoped>\n",
       "    .dataframe tbody tr th:only-of-type {\n",
       "        vertical-align: middle;\n",
       "    }\n",
       "\n",
       "    .dataframe tbody tr th {\n",
       "        vertical-align: top;\n",
       "    }\n",
       "\n",
       "    .dataframe thead th {\n",
       "        text-align: right;\n",
       "    }\n",
       "</style>\n",
       "<table border=\"1\" class=\"dataframe\">\n",
       "  <thead>\n",
       "    <tr style=\"text-align: right;\">\n",
       "      <th></th>\n",
       "      <th>company_permalink</th>\n",
       "      <th>funding_round_type</th>\n",
       "      <th>raised_amount_usd</th>\n",
       "      <th>name</th>\n",
       "      <th>category_list</th>\n",
       "      <th>status</th>\n",
       "      <th>country_code</th>\n",
       "    </tr>\n",
       "  </thead>\n",
       "  <tbody>\n",
       "    <tr>\n",
       "      <td>0</td>\n",
       "      <td>/organization/-fame</td>\n",
       "      <td>venture</td>\n",
       "      <td>10000000.000</td>\n",
       "      <td>#fame</td>\n",
       "      <td>Media</td>\n",
       "      <td>operating</td>\n",
       "      <td>IND</td>\n",
       "    </tr>\n",
       "    <tr>\n",
       "      <td>1</td>\n",
       "      <td>/organization/-qounter</td>\n",
       "      <td>venture</td>\n",
       "      <td>5000000.000</td>\n",
       "      <td>:Qounter</td>\n",
       "      <td>Application Platforms|Real Time|Social Network...</td>\n",
       "      <td>operating</td>\n",
       "      <td>USA</td>\n",
       "    </tr>\n",
       "    <tr>\n",
       "      <td>2</td>\n",
       "      <td>/organization/-qounter</td>\n",
       "      <td>seed</td>\n",
       "      <td>700000.000</td>\n",
       "      <td>:Qounter</td>\n",
       "      <td>Application Platforms|Real Time|Social Network...</td>\n",
       "      <td>operating</td>\n",
       "      <td>USA</td>\n",
       "    </tr>\n",
       "    <tr>\n",
       "      <td>4</td>\n",
       "      <td>/organization/0-6-com</td>\n",
       "      <td>venture</td>\n",
       "      <td>2000000.000</td>\n",
       "      <td>0-6.com</td>\n",
       "      <td>Curated Web</td>\n",
       "      <td>operating</td>\n",
       "      <td>CHN</td>\n",
       "    </tr>\n",
       "    <tr>\n",
       "      <td>5</td>\n",
       "      <td>/organization/004-technologies</td>\n",
       "      <td>venture</td>\n",
       "      <td>5000000.000</td>\n",
       "      <td>004 Technologies</td>\n",
       "      <td>Software</td>\n",
       "      <td>operating</td>\n",
       "      <td>USA</td>\n",
       "    </tr>\n",
       "  </tbody>\n",
       "</table>\n",
       "</div>"
      ],
      "text/plain": [
       "                company_permalink funding_round_type  raised_amount_usd  \\\n",
       "0             /organization/-fame            venture       10000000.000   \n",
       "1          /organization/-qounter            venture        5000000.000   \n",
       "2          /organization/-qounter               seed         700000.000   \n",
       "4           /organization/0-6-com            venture        2000000.000   \n",
       "5  /organization/004-technologies            venture        5000000.000   \n",
       "\n",
       "               name                                      category_list  \\\n",
       "0             #fame                                              Media   \n",
       "1          :Qounter  Application Platforms|Real Time|Social Network...   \n",
       "2          :Qounter  Application Platforms|Real Time|Social Network...   \n",
       "4           0-6.com                                        Curated Web   \n",
       "5  004 Technologies                                           Software   \n",
       "\n",
       "      status country_code  \n",
       "0  operating          IND  \n",
       "1  operating          USA  \n",
       "2  operating          USA  \n",
       "4  operating          CHN  \n",
       "5  operating          USA  "
      ]
     },
     "execution_count": 456,
     "metadata": {},
     "output_type": "execute_result"
    }
   ],
   "source": [
    "master_frame=master_frame.loc[(master_frame['funding_round_type'] == \"venture\") | (master_frame['funding_round_type'] == \"seed\")\n",
    "                             | (master_frame['funding_round_type'] == \"angel\") | (master_frame['funding_round_type'] == \"private_equity\")]\n",
    "master_frame.head(5)"
   ]
  },
  {
   "cell_type": "code",
   "execution_count": 457,
   "metadata": {},
   "outputs": [
    {
     "data": {
      "image/png": "[encoded data removed]",
      "text/plain": [
       "<Figure size 432x288 with 1 Axes>"
      ]
     },
     "metadata": {},
     "output_type": "display_data"
    },
    {
     "name": "stdout",
     "output_type": "stream",
     "text": [
      "venture           51745\n",
      "seed              26436\n",
      "angel              5416\n",
      "private_equity     1812\n",
      "Name: funding_round_type, dtype: int64\n"
     ]
    }
   ],
   "source": [
    "# Create a pieplot\n",
    "round_types = master_frame.funding_round_type.value_counts()\n",
    "plt.pie(round_types.values, labels=round_types.index, radius=1.5, wedgeprops = { 'linewidth' : 6, 'edgecolor' : 'white' })\n",
    "# add a circle at the center\n",
    "my_circle=plt.Circle( (0,0), 1, color='white')\n",
    "p=plt.gcf()\n",
    "p.gca().add_artist(my_circle)\n",
    "plt.show()\n",
    "print(round_types)"
   ]
  },
  {
   "cell_type": "markdown",
   "metadata": {},
   "source": [
    "## master_frame1 used later for checkpoint6: Plot 1"
   ]
  },
  {
   "cell_type": "code",
   "execution_count": 458,
   "metadata": {},
   "outputs": [],
   "source": [
    "master_frame1=master_frame.loc[(master_frame['funding_round_type'] == \"venture\") | (master_frame['funding_round_type'] == \"seed\")\n",
    "                             | (master_frame['funding_round_type'] == \"angel\") | (master_frame['funding_round_type'] == \"private_equity\")]"
   ]
  },
  {
   "cell_type": "markdown",
   "metadata": {},
   "source": [
    "##### calculating Average funding amount for each of the four funding types."
   ]
  },
  {
   "cell_type": "code",
   "execution_count": 459,
   "metadata": {},
   "outputs": [
    {
     "data": {
      "text/html": [
       "<div>\n",
       "<style scoped>\n",
       "    .dataframe tbody tr th:only-of-type {\n",
       "        vertical-align: middle;\n",
       "    }\n",
       "\n",
       "    .dataframe tbody tr th {\n",
       "        vertical-align: top;\n",
       "    }\n",
       "\n",
       "    .dataframe thead th {\n",
       "        text-align: right;\n",
       "    }\n",
       "</style>\n",
       "<table border=\"1\" class=\"dataframe\">\n",
       "  <thead>\n",
       "    <tr style=\"text-align: right;\">\n",
       "      <th></th>\n",
       "      <th>amount_invested</th>\n",
       "    </tr>\n",
       "    <tr>\n",
       "      <th>funding_round_type</th>\n",
       "      <th></th>\n",
       "    </tr>\n",
       "  </thead>\n",
       "  <tbody>\n",
       "    <tr>\n",
       "      <td>angel</td>\n",
       "      <td>775918.120</td>\n",
       "    </tr>\n",
       "    <tr>\n",
       "      <td>private_equity</td>\n",
       "      <td>28715518.640</td>\n",
       "    </tr>\n",
       "    <tr>\n",
       "      <td>seed</td>\n",
       "      <td>644863.360</td>\n",
       "    </tr>\n",
       "    <tr>\n",
       "      <td>venture</td>\n",
       "      <td>9313410.180</td>\n",
       "    </tr>\n",
       "  </tbody>\n",
       "</table>\n",
       "</div>"
      ],
      "text/plain": [
       "                    amount_invested\n",
       "funding_round_type                 \n",
       "angel                    775918.120\n",
       "private_equity         28715518.640\n",
       "seed                     644863.360\n",
       "venture                 9313410.180"
      ]
     },
     "execution_count": 459,
     "metadata": {},
     "output_type": "execute_result"
    }
   ],
   "source": [
    "pd.options.display.float_format='{:.3f}'.format\n",
    "mean_invest=round(master_frame.groupby('funding_round_type')['raised_amount_usd'].mean(),2).to_frame('amount_invested')\n",
    "mean_invest"
   ]
  },
  {
   "cell_type": "markdown",
   "metadata": {},
   "source": [
    "### Retaining only rows with venture type of funding as Spark Funds wants to invest in between 5 million to 15 million USD :"
   ]
  },
  {
   "cell_type": "code",
   "execution_count": 460,
   "metadata": {},
   "outputs": [
    {
     "name": "stdout",
     "output_type": "stream",
     "text": [
      "master_frame shape :(51745, 7)\n"
     ]
    },
    {
     "data": {
      "text/html": [
       "<div>\n",
       "<style scoped>\n",
       "    .dataframe tbody tr th:only-of-type {\n",
       "        vertical-align: middle;\n",
       "    }\n",
       "\n",
       "    .dataframe tbody tr th {\n",
       "        vertical-align: top;\n",
       "    }\n",
       "\n",
       "    .dataframe thead th {\n",
       "        text-align: right;\n",
       "    }\n",
       "</style>\n",
       "<table border=\"1\" class=\"dataframe\">\n",
       "  <thead>\n",
       "    <tr style=\"text-align: right;\">\n",
       "      <th></th>\n",
       "      <th>company_permalink</th>\n",
       "      <th>funding_round_type</th>\n",
       "      <th>raised_amount_usd</th>\n",
       "      <th>name</th>\n",
       "      <th>category_list</th>\n",
       "      <th>status</th>\n",
       "      <th>country_code</th>\n",
       "    </tr>\n",
       "  </thead>\n",
       "  <tbody>\n",
       "    <tr>\n",
       "      <td>0</td>\n",
       "      <td>/organization/-fame</td>\n",
       "      <td>venture</td>\n",
       "      <td>10000000.000</td>\n",
       "      <td>#fame</td>\n",
       "      <td>Media</td>\n",
       "      <td>operating</td>\n",
       "      <td>IND</td>\n",
       "    </tr>\n",
       "    <tr>\n",
       "      <td>1</td>\n",
       "      <td>/organization/-qounter</td>\n",
       "      <td>venture</td>\n",
       "      <td>5000000.000</td>\n",
       "      <td>:Qounter</td>\n",
       "      <td>Application Platforms|Real Time|Social Network...</td>\n",
       "      <td>operating</td>\n",
       "      <td>USA</td>\n",
       "    </tr>\n",
       "    <tr>\n",
       "      <td>4</td>\n",
       "      <td>/organization/0-6-com</td>\n",
       "      <td>venture</td>\n",
       "      <td>2000000.000</td>\n",
       "      <td>0-6.com</td>\n",
       "      <td>Curated Web</td>\n",
       "      <td>operating</td>\n",
       "      <td>CHN</td>\n",
       "    </tr>\n",
       "    <tr>\n",
       "      <td>5</td>\n",
       "      <td>/organization/004-technologies</td>\n",
       "      <td>venture</td>\n",
       "      <td>5000000.000</td>\n",
       "      <td>004 Technologies</td>\n",
       "      <td>Software</td>\n",
       "      <td>operating</td>\n",
       "      <td>USA</td>\n",
       "    </tr>\n",
       "    <tr>\n",
       "      <td>8</td>\n",
       "      <td>/organization/0ndine-biomedical-inc</td>\n",
       "      <td>venture</td>\n",
       "      <td>719491.000</td>\n",
       "      <td>Ondine Biomedical Inc.</td>\n",
       "      <td>Biotechnology</td>\n",
       "      <td>operating</td>\n",
       "      <td>CAN</td>\n",
       "    </tr>\n",
       "  </tbody>\n",
       "</table>\n",
       "</div>"
      ],
      "text/plain": [
       "                     company_permalink funding_round_type  raised_amount_usd  \\\n",
       "0                  /organization/-fame            venture       10000000.000   \n",
       "1               /organization/-qounter            venture        5000000.000   \n",
       "4                /organization/0-6-com            venture        2000000.000   \n",
       "5       /organization/004-technologies            venture        5000000.000   \n",
       "8  /organization/0ndine-biomedical-inc            venture         719491.000   \n",
       "\n",
       "                     name                                      category_list  \\\n",
       "0                   #fame                                              Media   \n",
       "1                :Qounter  Application Platforms|Real Time|Social Network...   \n",
       "4                 0-6.com                                        Curated Web   \n",
       "5        004 Technologies                                           Software   \n",
       "8  Ondine Biomedical Inc.                                      Biotechnology   \n",
       "\n",
       "      status country_code  \n",
       "0  operating          IND  \n",
       "1  operating          USA  \n",
       "4  operating          CHN  \n",
       "5  operating          USA  \n",
       "8  operating          CAN  "
      ]
     },
     "execution_count": 460,
     "metadata": {},
     "output_type": "execute_result"
    }
   ],
   "source": [
    "master_frame = master_frame[master_frame['funding_round_type'] == 'venture']\n",
    "print (\"master_frame shape :{}\".format(master_frame.shape))\n",
    "master_frame.head(5)"
   ]
  },
  {
   "cell_type": "markdown",
   "metadata": {},
   "source": [
    "# Checkpoint 3: Country Analysis"
   ]
  },
  {
   "cell_type": "code",
   "execution_count": 461,
   "metadata": {},
   "outputs": [
    {
     "data": {
      "text/html": [
       "<div>\n",
       "<style scoped>\n",
       "    .dataframe tbody tr th:only-of-type {\n",
       "        vertical-align: middle;\n",
       "    }\n",
       "\n",
       "    .dataframe tbody tr th {\n",
       "        vertical-align: top;\n",
       "    }\n",
       "\n",
       "    .dataframe thead th {\n",
       "        text-align: right;\n",
       "    }\n",
       "</style>\n",
       "<table border=\"1\" class=\"dataframe\">\n",
       "  <thead>\n",
       "    <tr style=\"text-align: right;\">\n",
       "      <th></th>\n",
       "      <th>raised_amount_usd</th>\n",
       "    </tr>\n",
       "    <tr>\n",
       "      <th>country_code</th>\n",
       "      <th></th>\n",
       "    </tr>\n",
       "  </thead>\n",
       "  <tbody>\n",
       "    <tr>\n",
       "      <td>USA</td>\n",
       "      <td>358273089090.000</td>\n",
       "    </tr>\n",
       "    <tr>\n",
       "      <td>CHN</td>\n",
       "      <td>27657918773.000</td>\n",
       "    </tr>\n",
       "    <tr>\n",
       "      <td>GBR</td>\n",
       "      <td>19009209004.000</td>\n",
       "    </tr>\n",
       "    <tr>\n",
       "      <td>IND</td>\n",
       "      <td>11060808720.000</td>\n",
       "    </tr>\n",
       "    <tr>\n",
       "      <td>CAN</td>\n",
       "      <td>9742217668.000</td>\n",
       "    </tr>\n",
       "    <tr>\n",
       "      <td>ISR</td>\n",
       "      <td>7259350477.000</td>\n",
       "    </tr>\n",
       "    <tr>\n",
       "      <td>DEU</td>\n",
       "      <td>7231744618.000</td>\n",
       "    </tr>\n",
       "    <tr>\n",
       "      <td>FRA</td>\n",
       "      <td>6665329408.000</td>\n",
       "    </tr>\n",
       "    <tr>\n",
       "      <td>CHE</td>\n",
       "      <td>3061560264.000</td>\n",
       "    </tr>\n",
       "  </tbody>\n",
       "</table>\n",
       "</div>"
      ],
      "text/plain": [
       "              raised_amount_usd\n",
       "country_code                   \n",
       "USA            358273089090.000\n",
       "CHN             27657918773.000\n",
       "GBR             19009209004.000\n",
       "IND             11060808720.000\n",
       "CAN              9742217668.000\n",
       "ISR              7259350477.000\n",
       "DEU              7231744618.000\n",
       "FRA              6665329408.000\n",
       "CHE              3061560264.000"
      ]
     },
     "execution_count": 461,
     "metadata": {},
     "output_type": "execute_result"
    }
   ],
   "source": [
    "#top9 data frame with the top nine countries based on the total investment amount each country has received:\n",
    "top9=master_frame.groupby('country_code').sum().sort_values(by = ['raised_amount_usd'], ascending=[False])\n",
    "top9.head(9)"
   ]
  },
  {
   "cell_type": "markdown",
   "metadata": {},
   "source": [
    "###### top9-Dataframe of top 9 countries with highest funding amount"
   ]
  },
  {
   "cell_type": "code",
   "execution_count": 462,
   "metadata": {},
   "outputs": [
    {
     "data": {
      "text/html": [
       "<div>\n",
       "<style scoped>\n",
       "    .dataframe tbody tr th:only-of-type {\n",
       "        vertical-align: middle;\n",
       "    }\n",
       "\n",
       "    .dataframe tbody tr th {\n",
       "        vertical-align: top;\n",
       "    }\n",
       "\n",
       "    .dataframe thead th {\n",
       "        text-align: right;\n",
       "    }\n",
       "</style>\n",
       "<table border=\"1\" class=\"dataframe\">\n",
       "  <thead>\n",
       "    <tr style=\"text-align: right;\">\n",
       "      <th></th>\n",
       "      <th>company_permalink</th>\n",
       "      <th>funding_round_type</th>\n",
       "      <th>raised_amount_usd</th>\n",
       "      <th>name</th>\n",
       "      <th>category_list</th>\n",
       "      <th>status</th>\n",
       "      <th>country_code</th>\n",
       "    </tr>\n",
       "  </thead>\n",
       "  <tbody>\n",
       "    <tr>\n",
       "      <td>0</td>\n",
       "      <td>/organization/-fame</td>\n",
       "      <td>venture</td>\n",
       "      <td>10000000.000</td>\n",
       "      <td>#fame</td>\n",
       "      <td>Media</td>\n",
       "      <td>operating</td>\n",
       "      <td>IND</td>\n",
       "    </tr>\n",
       "    <tr>\n",
       "      <td>1</td>\n",
       "      <td>/organization/-qounter</td>\n",
       "      <td>venture</td>\n",
       "      <td>5000000.000</td>\n",
       "      <td>:Qounter</td>\n",
       "      <td>Application Platforms|Real Time|Social Network...</td>\n",
       "      <td>operating</td>\n",
       "      <td>USA</td>\n",
       "    </tr>\n",
       "    <tr>\n",
       "      <td>4</td>\n",
       "      <td>/organization/0-6-com</td>\n",
       "      <td>venture</td>\n",
       "      <td>2000000.000</td>\n",
       "      <td>0-6.com</td>\n",
       "      <td>Curated Web</td>\n",
       "      <td>operating</td>\n",
       "      <td>CHN</td>\n",
       "    </tr>\n",
       "    <tr>\n",
       "      <td>5</td>\n",
       "      <td>/organization/004-technologies</td>\n",
       "      <td>venture</td>\n",
       "      <td>5000000.000</td>\n",
       "      <td>004 Technologies</td>\n",
       "      <td>Software</td>\n",
       "      <td>operating</td>\n",
       "      <td>USA</td>\n",
       "    </tr>\n",
       "    <tr>\n",
       "      <td>8</td>\n",
       "      <td>/organization/0ndine-biomedical-inc</td>\n",
       "      <td>venture</td>\n",
       "      <td>719491.000</td>\n",
       "      <td>Ondine Biomedical Inc.</td>\n",
       "      <td>Biotechnology</td>\n",
       "      <td>operating</td>\n",
       "      <td>CAN</td>\n",
       "    </tr>\n",
       "  </tbody>\n",
       "</table>\n",
       "</div>"
      ],
      "text/plain": [
       "                     company_permalink funding_round_type  raised_amount_usd  \\\n",
       "0                  /organization/-fame            venture       10000000.000   \n",
       "1               /organization/-qounter            venture        5000000.000   \n",
       "4                /organization/0-6-com            venture        2000000.000   \n",
       "5       /organization/004-technologies            venture        5000000.000   \n",
       "8  /organization/0ndine-biomedical-inc            venture         719491.000   \n",
       "\n",
       "                     name                                      category_list  \\\n",
       "0                   #fame                                              Media   \n",
       "1                :Qounter  Application Platforms|Real Time|Social Network...   \n",
       "4                 0-6.com                                        Curated Web   \n",
       "5        004 Technologies                                           Software   \n",
       "8  Ondine Biomedical Inc.                                      Biotechnology   \n",
       "\n",
       "      status country_code  \n",
       "0  operating          IND  \n",
       "1  operating          USA  \n",
       "4  operating          CHN  \n",
       "5  operating          USA  \n",
       "8  operating          CAN  "
      ]
     },
     "execution_count": 462,
     "metadata": {},
     "output_type": "execute_result"
    }
   ],
   "source": [
    "top9 = master_frame[master_frame['country_code'].isin(['USA','CHN','GBR','IND','CAN','ISR','FRA','DEU','CHE' ])]\n",
    "top9.head(5)"
   ]
  },
  {
   "cell_type": "markdown",
   "metadata": {},
   "source": [
    "###### Getting the Top 3 English-Speaking Countries from wiki"
   ]
  },
  {
   "cell_type": "code",
   "execution_count": 372,
   "metadata": {},
   "outputs": [
    {
     "data": {
      "text/plain": [
       "0    ATG\n",
       "1    BHS\n",
       "2    BRB\n",
       "3    BLZ\n",
       "4    BWA\n",
       "Name: Alpha-3 code, dtype: object"
      ]
     },
     "execution_count": 372,
     "metadata": {},
     "output_type": "execute_result"
    }
   ],
   "source": [
    "EngSpkCon = pd.read_html('https://en.wikipedia.org/wiki/List_of_territorial_entities_where_English_is_an_official_language')[1]\n",
    "EngSpkCon['Alpha-3 code'].head(5)"
   ]
  },
  {
   "cell_type": "markdown",
   "metadata": {},
   "source": [
    "##### Selecting top 9 countries with the highest investment amount  and for only Venture Funding Type(FT)"
   ]
  },
  {
   "cell_type": "code",
   "execution_count": 463,
   "metadata": {},
   "outputs": [
    {
     "data": {
      "image/png": "[encoded data removed]",
      "text/plain": [
       "<Figure size 864x576 with 1 Axes>"
      ]
     },
     "metadata": {},
     "output_type": "display_data"
    },
    {
     "name": "stdout",
     "output_type": "stream",
     "text": [
      "              raised_amount_usd\n",
      "country_code                   \n",
      "USA            358273089090.000\n",
      "CHN             27657918773.000\n",
      "GBR             19009209004.000\n",
      "IND             11060808720.000\n",
      "CAN              9742217668.000\n",
      "ISR              7259350477.000\n",
      "DEU              7231744618.000\n",
      "FRA              6665329408.000\n",
      "CHE              3061560264.000 \n",
      "\n",
      "Top 3 english speaking countries in order are: USA, GBR, IND\n"
     ]
    }
   ],
   "source": [
    " top9 = master_frame[master_frame['funding_round_type']=='venture'].groupby('country_code').sum().sort_values('raised_amount_usd', ascending=False).head(9)\n",
    "plt.figure(figsize=(12, 8))\n",
    "sns.barplot(x=top9.index, y=top9.values.ravel())\n",
    "plt.ylabel('raised_amount_usd')\n",
    "plt.show()\n",
    "\n",
    "print(top9, '\\n')\n",
    "print(\"Top 3 english speaking countries in order are: USA, GBR, IND\")"
   ]
  },
  {
   "cell_type": "code",
   "execution_count": 464,
   "metadata": {},
   "outputs": [
    {
     "name": "stdout",
     "output_type": "stream",
     "text": [
      "Top 3 English-Speaking Countries are:\n",
      " 1.USA\n",
      " 2.GBR\n",
      " 3.IND\n"
     ]
    }
   ],
   "source": [
    "#Based on the list given in https://en.wikipedia.org/wiki/List_of_territorial_entities_where_English_is_an_official_language:\n",
    "#Top 3 English-Speaking Countries:\n",
    "print(\"Top 3 English-Speaking Countries are:\\n 1.USA\\n 2.GBR\\n 3.IND\")"
   ]
  },
  {
   "cell_type": "markdown",
   "metadata": {},
   "source": [
    "# Checkpoint 4: Sector Analysis 1"
   ]
  },
  {
   "cell_type": "markdown",
   "metadata": {},
   "source": [
    "##### Derive the primary sector values from category list in the master_frame\n",
    "###### Here,considering the value before first vertical bar(\\|) as primary sector according to business"
   ]
  },
  {
   "cell_type": "code",
   "execution_count": 465,
   "metadata": {},
   "outputs": [
    {
     "name": "stdout",
     "output_type": "stream",
     "text": [
      "master_frame shape :(51745, 8)\n"
     ]
    },
    {
     "data": {
      "text/html": [
       "<div>\n",
       "<style scoped>\n",
       "    .dataframe tbody tr th:only-of-type {\n",
       "        vertical-align: middle;\n",
       "    }\n",
       "\n",
       "    .dataframe tbody tr th {\n",
       "        vertical-align: top;\n",
       "    }\n",
       "\n",
       "    .dataframe thead th {\n",
       "        text-align: right;\n",
       "    }\n",
       "</style>\n",
       "<table border=\"1\" class=\"dataframe\">\n",
       "  <thead>\n",
       "    <tr style=\"text-align: right;\">\n",
       "      <th></th>\n",
       "      <th>company_permalink</th>\n",
       "      <th>funding_round_type</th>\n",
       "      <th>raised_amount_usd</th>\n",
       "      <th>name</th>\n",
       "      <th>category_list</th>\n",
       "      <th>status</th>\n",
       "      <th>country_code</th>\n",
       "      <th>primary sector</th>\n",
       "    </tr>\n",
       "  </thead>\n",
       "  <tbody>\n",
       "    <tr>\n",
       "      <td>0</td>\n",
       "      <td>/organization/-fame</td>\n",
       "      <td>venture</td>\n",
       "      <td>10000000.000</td>\n",
       "      <td>#fame</td>\n",
       "      <td>Media</td>\n",
       "      <td>operating</td>\n",
       "      <td>IND</td>\n",
       "      <td>Media</td>\n",
       "    </tr>\n",
       "    <tr>\n",
       "      <td>1</td>\n",
       "      <td>/organization/-qounter</td>\n",
       "      <td>venture</td>\n",
       "      <td>5000000.000</td>\n",
       "      <td>:Qounter</td>\n",
       "      <td>Application Platforms|Real Time|Social Network...</td>\n",
       "      <td>operating</td>\n",
       "      <td>USA</td>\n",
       "      <td>Application Platforms</td>\n",
       "    </tr>\n",
       "    <tr>\n",
       "      <td>4</td>\n",
       "      <td>/organization/0-6-com</td>\n",
       "      <td>venture</td>\n",
       "      <td>2000000.000</td>\n",
       "      <td>0-6.com</td>\n",
       "      <td>Curated Web</td>\n",
       "      <td>operating</td>\n",
       "      <td>CHN</td>\n",
       "      <td>Curated Web</td>\n",
       "    </tr>\n",
       "    <tr>\n",
       "      <td>5</td>\n",
       "      <td>/organization/004-technologies</td>\n",
       "      <td>venture</td>\n",
       "      <td>5000000.000</td>\n",
       "      <td>004 Technologies</td>\n",
       "      <td>Software</td>\n",
       "      <td>operating</td>\n",
       "      <td>USA</td>\n",
       "      <td>Software</td>\n",
       "    </tr>\n",
       "    <tr>\n",
       "      <td>8</td>\n",
       "      <td>/organization/0ndine-biomedical-inc</td>\n",
       "      <td>venture</td>\n",
       "      <td>719491.000</td>\n",
       "      <td>Ondine Biomedical Inc.</td>\n",
       "      <td>Biotechnology</td>\n",
       "      <td>operating</td>\n",
       "      <td>CAN</td>\n",
       "      <td>Biotechnology</td>\n",
       "    </tr>\n",
       "  </tbody>\n",
       "</table>\n",
       "</div>"
      ],
      "text/plain": [
       "                     company_permalink funding_round_type  raised_amount_usd  \\\n",
       "0                  /organization/-fame            venture       10000000.000   \n",
       "1               /organization/-qounter            venture        5000000.000   \n",
       "4                /organization/0-6-com            venture        2000000.000   \n",
       "5       /organization/004-technologies            venture        5000000.000   \n",
       "8  /organization/0ndine-biomedical-inc            venture         719491.000   \n",
       "\n",
       "                     name                                      category_list  \\\n",
       "0                   #fame                                              Media   \n",
       "1                :Qounter  Application Platforms|Real Time|Social Network...   \n",
       "4                 0-6.com                                        Curated Web   \n",
       "5        004 Technologies                                           Software   \n",
       "8  Ondine Biomedical Inc.                                      Biotechnology   \n",
       "\n",
       "      status country_code         primary sector  \n",
       "0  operating          IND                  Media  \n",
       "1  operating          USA  Application Platforms  \n",
       "4  operating          CHN            Curated Web  \n",
       "5  operating          USA               Software  \n",
       "8  operating          CAN          Biotechnology  "
      ]
     },
     "execution_count": 465,
     "metadata": {},
     "output_type": "execute_result"
    }
   ],
   "source": [
    "master_frame=master_frame.assign(primary_sector=master_frame.category_list.str.split(\"|\").str[0])\n",
    "master_frame=master_frame.rename(columns={'primary_sector':'primary sector'})\n",
    "print (\"master_frame shape :{}\".format(master_frame.shape))\n",
    "master_frame.head(5)"
   ]
  },
  {
   "cell_type": "markdown",
   "metadata": {},
   "source": [
    "##### Observing the mapping.csv file:"
   ]
  },
  {
   "cell_type": "code",
   "execution_count": 466,
   "metadata": {},
   "outputs": [
    {
     "data": {
      "text/html": [
       "<div>\n",
       "<style scoped>\n",
       "    .dataframe tbody tr th:only-of-type {\n",
       "        vertical-align: middle;\n",
       "    }\n",
       "\n",
       "    .dataframe tbody tr th {\n",
       "        vertical-align: top;\n",
       "    }\n",
       "\n",
       "    .dataframe thead th {\n",
       "        text-align: right;\n",
       "    }\n",
       "</style>\n",
       "<table border=\"1\" class=\"dataframe\">\n",
       "  <thead>\n",
       "    <tr style=\"text-align: right;\">\n",
       "      <th></th>\n",
       "      <th>category_list</th>\n",
       "      <th>Automotive &amp; Sports</th>\n",
       "      <th>Blanks</th>\n",
       "      <th>Cleantech / Semiconductors</th>\n",
       "      <th>Entertainment</th>\n",
       "      <th>Health</th>\n",
       "      <th>Manufacturing</th>\n",
       "      <th>News, Search and Messaging</th>\n",
       "      <th>Others</th>\n",
       "      <th>Social, Finance, Analytics, Advertising</th>\n",
       "    </tr>\n",
       "  </thead>\n",
       "  <tbody>\n",
       "    <tr>\n",
       "      <td>0</td>\n",
       "      <td>NaN</td>\n",
       "      <td>0</td>\n",
       "      <td>1</td>\n",
       "      <td>0</td>\n",
       "      <td>0</td>\n",
       "      <td>0</td>\n",
       "      <td>0</td>\n",
       "      <td>0</td>\n",
       "      <td>0</td>\n",
       "      <td>0</td>\n",
       "    </tr>\n",
       "    <tr>\n",
       "      <td>1</td>\n",
       "      <td>3D</td>\n",
       "      <td>0</td>\n",
       "      <td>0</td>\n",
       "      <td>0</td>\n",
       "      <td>0</td>\n",
       "      <td>0</td>\n",
       "      <td>1</td>\n",
       "      <td>0</td>\n",
       "      <td>0</td>\n",
       "      <td>0</td>\n",
       "    </tr>\n",
       "    <tr>\n",
       "      <td>2</td>\n",
       "      <td>3D Printing</td>\n",
       "      <td>0</td>\n",
       "      <td>0</td>\n",
       "      <td>0</td>\n",
       "      <td>0</td>\n",
       "      <td>0</td>\n",
       "      <td>1</td>\n",
       "      <td>0</td>\n",
       "      <td>0</td>\n",
       "      <td>0</td>\n",
       "    </tr>\n",
       "    <tr>\n",
       "      <td>3</td>\n",
       "      <td>3D Technology</td>\n",
       "      <td>0</td>\n",
       "      <td>0</td>\n",
       "      <td>0</td>\n",
       "      <td>0</td>\n",
       "      <td>0</td>\n",
       "      <td>1</td>\n",
       "      <td>0</td>\n",
       "      <td>0</td>\n",
       "      <td>0</td>\n",
       "    </tr>\n",
       "    <tr>\n",
       "      <td>4</td>\n",
       "      <td>Accounting</td>\n",
       "      <td>0</td>\n",
       "      <td>0</td>\n",
       "      <td>0</td>\n",
       "      <td>0</td>\n",
       "      <td>0</td>\n",
       "      <td>0</td>\n",
       "      <td>0</td>\n",
       "      <td>0</td>\n",
       "      <td>1</td>\n",
       "    </tr>\n",
       "    <tr>\n",
       "      <td>5</td>\n",
       "      <td>Active Lifestyle</td>\n",
       "      <td>0</td>\n",
       "      <td>0</td>\n",
       "      <td>0</td>\n",
       "      <td>0</td>\n",
       "      <td>1</td>\n",
       "      <td>0</td>\n",
       "      <td>0</td>\n",
       "      <td>0</td>\n",
       "      <td>0</td>\n",
       "    </tr>\n",
       "    <tr>\n",
       "      <td>6</td>\n",
       "      <td>Ad Targeting</td>\n",
       "      <td>0</td>\n",
       "      <td>0</td>\n",
       "      <td>0</td>\n",
       "      <td>0</td>\n",
       "      <td>0</td>\n",
       "      <td>0</td>\n",
       "      <td>0</td>\n",
       "      <td>0</td>\n",
       "      <td>1</td>\n",
       "    </tr>\n",
       "    <tr>\n",
       "      <td>7</td>\n",
       "      <td>Advanced Materials</td>\n",
       "      <td>0</td>\n",
       "      <td>0</td>\n",
       "      <td>0</td>\n",
       "      <td>0</td>\n",
       "      <td>0</td>\n",
       "      <td>1</td>\n",
       "      <td>0</td>\n",
       "      <td>0</td>\n",
       "      <td>0</td>\n",
       "    </tr>\n",
       "    <tr>\n",
       "      <td>8</td>\n",
       "      <td>Adventure Travel</td>\n",
       "      <td>1</td>\n",
       "      <td>0</td>\n",
       "      <td>0</td>\n",
       "      <td>0</td>\n",
       "      <td>0</td>\n",
       "      <td>0</td>\n",
       "      <td>0</td>\n",
       "      <td>0</td>\n",
       "      <td>0</td>\n",
       "    </tr>\n",
       "    <tr>\n",
       "      <td>9</td>\n",
       "      <td>Advertising</td>\n",
       "      <td>0</td>\n",
       "      <td>0</td>\n",
       "      <td>0</td>\n",
       "      <td>0</td>\n",
       "      <td>0</td>\n",
       "      <td>0</td>\n",
       "      <td>0</td>\n",
       "      <td>0</td>\n",
       "      <td>1</td>\n",
       "    </tr>\n",
       "  </tbody>\n",
       "</table>\n",
       "</div>"
      ],
      "text/plain": [
       "        category_list  Automotive & Sports  Blanks  \\\n",
       "0                 NaN                    0       1   \n",
       "1                  3D                    0       0   \n",
       "2         3D Printing                    0       0   \n",
       "3       3D Technology                    0       0   \n",
       "4          Accounting                    0       0   \n",
       "5    Active Lifestyle                    0       0   \n",
       "6        Ad Targeting                    0       0   \n",
       "7  Advanced Materials                    0       0   \n",
       "8    Adventure Travel                    1       0   \n",
       "9         Advertising                    0       0   \n",
       "\n",
       "   Cleantech / Semiconductors  Entertainment  Health  Manufacturing  \\\n",
       "0                           0              0       0              0   \n",
       "1                           0              0       0              1   \n",
       "2                           0              0       0              1   \n",
       "3                           0              0       0              1   \n",
       "4                           0              0       0              0   \n",
       "5                           0              0       1              0   \n",
       "6                           0              0       0              0   \n",
       "7                           0              0       0              1   \n",
       "8                           0              0       0              0   \n",
       "9                           0              0       0              0   \n",
       "\n",
       "   News, Search and Messaging  Others  Social, Finance, Analytics, Advertising  \n",
       "0                           0       0                                        0  \n",
       "1                           0       0                                        0  \n",
       "2                           0       0                                        0  \n",
       "3                           0       0                                        0  \n",
       "4                           0       0                                        1  \n",
       "5                           0       0                                        0  \n",
       "6                           0       0                                        1  \n",
       "7                           0       0                                        0  \n",
       "8                           0       0                                        0  \n",
       "9                           0       0                                        1  "
      ]
     },
     "execution_count": 466,
     "metadata": {},
     "output_type": "execute_result"
    }
   ],
   "source": [
    "mapping.head(10)"
   ]
  },
  {
   "cell_type": "markdown",
   "metadata": {},
   "source": [
    "### reshaping the mapping dataframe using melt function to unpivot the dataframe & preparing data to merge with master_frame:"
   ]
  },
  {
   "cell_type": "code",
   "execution_count": 467,
   "metadata": {},
   "outputs": [],
   "source": [
    "df_unpivoted= mapping.melt(id_vars=['category_list'],value_vars =['Manufacturing','Automotive & Sports','Cleantech / Semiconductors','Entertainment','Health','News, Search and Messaging','Others','Social, Finance, Analytics, Advertising'])\n",
    "mapping=df_unpivoted.loc[(df_unpivoted['value'] == 1) ]"
   ]
  },
  {
   "cell_type": "markdown",
   "metadata": {},
   "source": [
    "#### Cleaning mapping table and manipulating data:"
   ]
  },
  {
   "cell_type": "code",
   "execution_count": 468,
   "metadata": {},
   "outputs": [
    {
     "name": "stdout",
     "output_type": "stream",
     "text": [
      "unique variables in main_sector :8\n"
     ]
    },
    {
     "data": {
      "text/html": [
       "<div>\n",
       "<style scoped>\n",
       "    .dataframe tbody tr th:only-of-type {\n",
       "        vertical-align: middle;\n",
       "    }\n",
       "\n",
       "    .dataframe tbody tr th {\n",
       "        vertical-align: top;\n",
       "    }\n",
       "\n",
       "    .dataframe thead th {\n",
       "        text-align: right;\n",
       "    }\n",
       "</style>\n",
       "<table border=\"1\" class=\"dataframe\">\n",
       "  <thead>\n",
       "    <tr style=\"text-align: right;\">\n",
       "      <th></th>\n",
       "      <th>primary sector</th>\n",
       "      <th>main_sector</th>\n",
       "    </tr>\n",
       "  </thead>\n",
       "  <tbody>\n",
       "    <tr>\n",
       "      <td>1</td>\n",
       "      <td>3D</td>\n",
       "      <td>Manufacturing</td>\n",
       "    </tr>\n",
       "    <tr>\n",
       "      <td>2</td>\n",
       "      <td>3D Printing</td>\n",
       "      <td>Manufacturing</td>\n",
       "    </tr>\n",
       "    <tr>\n",
       "      <td>3</td>\n",
       "      <td>3D Technology</td>\n",
       "      <td>Manufacturing</td>\n",
       "    </tr>\n",
       "    <tr>\n",
       "      <td>7</td>\n",
       "      <td>Advanced Materials</td>\n",
       "      <td>Manufacturing</td>\n",
       "    </tr>\n",
       "    <tr>\n",
       "      <td>15</td>\n",
       "      <td>Agriculture</td>\n",
       "      <td>Manufacturing</td>\n",
       "    </tr>\n",
       "    <tr>\n",
       "      <td>34</td>\n",
       "      <td>Architecture</td>\n",
       "      <td>Manufacturing</td>\n",
       "    </tr>\n",
       "    <tr>\n",
       "      <td>55</td>\n",
       "      <td>Batteries</td>\n",
       "      <td>Manufacturing</td>\n",
       "    </tr>\n",
       "  </tbody>\n",
       "</table>\n",
       "</div>"
      ],
      "text/plain": [
       "        primary sector    main_sector\n",
       "1                   3D  Manufacturing\n",
       "2          3D Printing  Manufacturing\n",
       "3        3D Technology  Manufacturing\n",
       "7   Advanced Materials  Manufacturing\n",
       "15         Agriculture  Manufacturing\n",
       "34        Architecture  Manufacturing\n",
       "55           Batteries  Manufacturing"
      ]
     },
     "execution_count": 468,
     "metadata": {},
     "output_type": "execute_result"
    }
   ],
   "source": [
    "mapping=mapping.drop(columns=['value'])\n",
    "#replacing data '0' with 'na'\n",
    "mapping.loc[mapping['category_list'] == \"A0lytics\"]\n",
    "#renaming the columns names to merge with master_frame\n",
    "mapping=mapping.rename(columns={'variable':'main_sector','category_list':'primary sector'})\n",
    "mapping=mapping.replace(to_replace='0',value='na',regex=True)\n",
    "print (\"unique variables in main_sector :{}\".format(mapping['main_sector'].nunique()))\n",
    "mapping.head(7)"
   ]
  },
  {
   "cell_type": "markdown",
   "metadata": {},
   "source": [
    "#### Code for a merged data frame with each primary sector mapped to its main sector\n",
    "##### merging mapping dataframe with master_frame to get the main sectors:"
   ]
  },
  {
   "cell_type": "code",
   "execution_count": 469,
   "metadata": {},
   "outputs": [
    {
     "name": "stdout",
     "output_type": "stream",
     "text": [
      "master_frame shape :(51745, 8)\n",
      "master_frame shape :(51745, 9)\n",
      "unique variables in main_sector :8\n"
     ]
    }
   ],
   "source": [
    "#shape of master_frame before merging\n",
    "print (\"master_frame shape :{}\".format(master_frame.shape))\n",
    "master_frame = pd.merge(master_frame,mapping,how='left', on=['primary sector'])\n",
    "#shape of master_frame after merging\n",
    "print (\"master_frame shape :{}\".format(master_frame.shape))\n",
    "print (\"unique variables in main_sector :{}\".format(mapping['main_sector'].nunique()))"
   ]
  },
  {
   "cell_type": "markdown",
   "metadata": {},
   "source": [
    "##### create a new data frame with only these 3 countires data for furthur sector wise analysis"
   ]
  },
  {
   "cell_type": "code",
   "execution_count": 470,
   "metadata": {},
   "outputs": [],
   "source": [
    "top3_englishspkcntr = master_frame[master_frame['country_code'].isin(['USA', 'GBR', 'IND'])]"
   ]
  },
  {
   "cell_type": "markdown",
   "metadata": {},
   "source": [
    "##### checking for null values in main_sector of master_frame and removing them"
   ]
  },
  {
   "cell_type": "code",
   "execution_count": 471,
   "metadata": {},
   "outputs": [
    {
     "name": "stdout",
     "output_type": "stream",
     "text": [
      "Null values in main_sector: 201\n",
      "Removed records with null values in main_sector \n"
     ]
    },
    {
     "data": {
      "image/png": "[encoded data removed]",
      "text/plain": [
       "<Figure size 576x432 with 1 Axes>"
      ]
     },
     "metadata": {},
     "output_type": "display_data"
    },
    {
     "name": "stdout",
     "output_type": "stream",
     "text": [
      "Others                                     12338\n",
      "Social, Finance, Analytics, Advertising    10674\n",
      "Cleantech / Semiconductors                 10293\n",
      "News, Search and Messaging                  6505\n",
      "Health                                      4219\n",
      "Manufacturing                               3593\n",
      "Entertainment                               3095\n",
      "Automotive & Sports                          827\n",
      "Name: main_sector, dtype: int64\n"
     ]
    }
   ],
   "source": [
    "print(\"Null values in main_sector: {}\".format(len(master_frame[master_frame.main_sector.isnull()])))\n",
    "master_frame= master_frame[~(master_frame.main_sector.isnull())]\n",
    "print(\"Removed records with null values in main_sector \")\n",
    "master_frame.shape\n",
    "sectors = master_frame.main_sector.value_counts()\n",
    "\n",
    "plt.figure(figsize=(8, 6))\n",
    "sns.barplot(x=sectors.values, y=sectors.index)\n",
    "plt.ylabel('main_sectors')\n",
    "plt.xlabel('Count of investments')\n",
    "plt.show()\n",
    "\n",
    "print(sectors)"
   ]
  },
  {
   "cell_type": "markdown",
   "metadata": {},
   "source": [
    "# Checkpoint 5: Sector Analysis 2"
   ]
  },
  {
   "cell_type": "markdown",
   "metadata": {},
   "source": [
    "## Country-Wise Sector Analysis"
   ]
  },
  {
   "cell_type": "markdown",
   "metadata": {},
   "source": [
    "#### Creating the three country-wise data frame filtered  funding amount range 5-5M USD "
   ]
  },
  {
   "cell_type": "markdown",
   "metadata": {},
   "source": [
    "###### Country 1 - USA"
   ]
  },
  {
   "cell_type": "code",
   "execution_count": 472,
   "metadata": {},
   "outputs": [
    {
     "data": {
      "text/html": [
       "<div>\n",
       "<style scoped>\n",
       "    .dataframe tbody tr th:only-of-type {\n",
       "        vertical-align: middle;\n",
       "    }\n",
       "\n",
       "    .dataframe tbody tr th {\n",
       "        vertical-align: top;\n",
       "    }\n",
       "\n",
       "    .dataframe thead th {\n",
       "        text-align: right;\n",
       "    }\n",
       "</style>\n",
       "<table border=\"1\" class=\"dataframe\">\n",
       "  <thead>\n",
       "    <tr style=\"text-align: right;\">\n",
       "      <th></th>\n",
       "      <th>company_permalink</th>\n",
       "      <th>funding_round_type</th>\n",
       "      <th>raised_amount_usd</th>\n",
       "      <th>name</th>\n",
       "      <th>category_list</th>\n",
       "      <th>status</th>\n",
       "      <th>country_code</th>\n",
       "      <th>primary sector</th>\n",
       "      <th>main_sector</th>\n",
       "      <th>(raised_amount_usd, Total Amount Invested)</th>\n",
       "      <th>(raised_amount_usd, Total No.of Investments)</th>\n",
       "    </tr>\n",
       "  </thead>\n",
       "  <tbody>\n",
       "    <tr>\n",
       "      <td>0</td>\n",
       "      <td>/organization/-qounter</td>\n",
       "      <td>venture</td>\n",
       "      <td>5000000.000</td>\n",
       "      <td>:Qounter</td>\n",
       "      <td>Application Platforms|Real Time|Social Network...</td>\n",
       "      <td>operating</td>\n",
       "      <td>USA</td>\n",
       "      <td>Application Platforms</td>\n",
       "      <td>News, Search and Messaging</td>\n",
       "      <td>15269567428.000</td>\n",
       "      <td>1844</td>\n",
       "    </tr>\n",
       "    <tr>\n",
       "      <td>1</td>\n",
       "      <td>/organization/004-technologies</td>\n",
       "      <td>venture</td>\n",
       "      <td>5000000.000</td>\n",
       "      <td>004 Technologies</td>\n",
       "      <td>Software</td>\n",
       "      <td>operating</td>\n",
       "      <td>USA</td>\n",
       "      <td>Software</td>\n",
       "      <td>Others</td>\n",
       "      <td>28586007002.000</td>\n",
       "      <td>3403</td>\n",
       "    </tr>\n",
       "    <tr>\n",
       "      <td>2</td>\n",
       "      <td>/organization/0xdata</td>\n",
       "      <td>venture</td>\n",
       "      <td>8900000.000</td>\n",
       "      <td>H2O.ai</td>\n",
       "      <td>Analytics</td>\n",
       "      <td>operating</td>\n",
       "      <td>USA</td>\n",
       "      <td>Analytics</td>\n",
       "      <td>Social, Finance, Analytics, Advertising</td>\n",
       "      <td>26687376964.000</td>\n",
       "      <td>3290</td>\n",
       "    </tr>\n",
       "    <tr>\n",
       "      <td>3</td>\n",
       "      <td>/organization/1-mainstream</td>\n",
       "      <td>venture</td>\n",
       "      <td>5000000.000</td>\n",
       "      <td>1 Mainstream</td>\n",
       "      <td>Apps|Cable|Distribution|Software</td>\n",
       "      <td>acquired</td>\n",
       "      <td>USA</td>\n",
       "      <td>Apps</td>\n",
       "      <td>News, Search and Messaging</td>\n",
       "      <td>15269567428.000</td>\n",
       "      <td>1844</td>\n",
       "    </tr>\n",
       "    <tr>\n",
       "      <td>4</td>\n",
       "      <td>/organization/1000museums-com</td>\n",
       "      <td>venture</td>\n",
       "      <td>5000000.000</td>\n",
       "      <td>1000museums.com</td>\n",
       "      <td>Curated Web</td>\n",
       "      <td>operating</td>\n",
       "      <td>USA</td>\n",
       "      <td>Curated Web</td>\n",
       "      <td>News, Search and Messaging</td>\n",
       "      <td>15269567428.000</td>\n",
       "      <td>1844</td>\n",
       "    </tr>\n",
       "  </tbody>\n",
       "</table>\n",
       "</div>"
      ],
      "text/plain": [
       "                company_permalink funding_round_type  raised_amount_usd  \\\n",
       "0          /organization/-qounter            venture        5000000.000   \n",
       "1  /organization/004-technologies            venture        5000000.000   \n",
       "2            /organization/0xdata            venture        8900000.000   \n",
       "3      /organization/1-mainstream            venture        5000000.000   \n",
       "4   /organization/1000museums-com            venture        5000000.000   \n",
       "\n",
       "               name                                      category_list  \\\n",
       "0          :Qounter  Application Platforms|Real Time|Social Network...   \n",
       "1  004 Technologies                                           Software   \n",
       "2            H2O.ai                                          Analytics   \n",
       "3      1 Mainstream                   Apps|Cable|Distribution|Software   \n",
       "4   1000museums.com                                        Curated Web   \n",
       "\n",
       "      status country_code         primary sector  \\\n",
       "0  operating          USA  Application Platforms   \n",
       "1  operating          USA               Software   \n",
       "2  operating          USA              Analytics   \n",
       "3   acquired          USA                   Apps   \n",
       "4  operating          USA            Curated Web   \n",
       "\n",
       "                               main_sector  \\\n",
       "0               News, Search and Messaging   \n",
       "1                                   Others   \n",
       "2  Social, Finance, Analytics, Advertising   \n",
       "3               News, Search and Messaging   \n",
       "4               News, Search and Messaging   \n",
       "\n",
       "   (raised_amount_usd, Total Amount Invested)  \\\n",
       "0                             15269567428.000   \n",
       "1                             28586007002.000   \n",
       "2                             26687376964.000   \n",
       "3                             15269567428.000   \n",
       "4                             15269567428.000   \n",
       "\n",
       "   (raised_amount_usd, Total No.of Investments)  \n",
       "0                                          1844  \n",
       "1                                          3403  \n",
       "2                                          3290  \n",
       "3                                          1844  \n",
       "4                                          1844  "
      ]
     },
     "execution_count": 472,
     "metadata": {},
     "output_type": "execute_result"
    }
   ],
   "source": [
    "d1 = master_frame[(master_frame['country_code'] == 'USA') & \n",
    "             (master_frame['raised_amount_usd'] >= 5000000) & \n",
    "             (master_frame['raised_amount_usd'] <= 15000000)]\n",
    "D1_grouped = d1[['raised_amount_usd','main_sector']].groupby('main_sector').agg(['sum', 'count']).rename(\n",
    "    columns={'sum':'Total Amount Invested','count' : 'Total No.of Investments'})\n",
    "D1 = d1.merge(D1_grouped, how='left', on ='main_sector')\n",
    "D1.head()"
   ]
  },
  {
   "cell_type": "markdown",
   "metadata": {},
   "source": [
    "### Country2 - GBR"
   ]
  },
  {
   "cell_type": "code",
   "execution_count": 473,
   "metadata": {},
   "outputs": [
    {
     "data": {
      "text/html": [
       "<div>\n",
       "<style scoped>\n",
       "    .dataframe tbody tr th:only-of-type {\n",
       "        vertical-align: middle;\n",
       "    }\n",
       "\n",
       "    .dataframe tbody tr th {\n",
       "        vertical-align: top;\n",
       "    }\n",
       "\n",
       "    .dataframe thead th {\n",
       "        text-align: right;\n",
       "    }\n",
       "</style>\n",
       "<table border=\"1\" class=\"dataframe\">\n",
       "  <thead>\n",
       "    <tr style=\"text-align: right;\">\n",
       "      <th></th>\n",
       "      <th>company_permalink</th>\n",
       "      <th>funding_round_type</th>\n",
       "      <th>raised_amount_usd</th>\n",
       "      <th>name</th>\n",
       "      <th>category_list</th>\n",
       "      <th>status</th>\n",
       "      <th>country_code</th>\n",
       "      <th>primary sector</th>\n",
       "      <th>main_sector</th>\n",
       "      <th>(raised_amount_usd, Total Amount Invested)</th>\n",
       "      <th>(raised_amount_usd, Total No.of Investments)</th>\n",
       "    </tr>\n",
       "  </thead>\n",
       "  <tbody>\n",
       "    <tr>\n",
       "      <td>0</td>\n",
       "      <td>/organization/365scores</td>\n",
       "      <td>venture</td>\n",
       "      <td>5500000.000</td>\n",
       "      <td>365Scores</td>\n",
       "      <td>Android|Apps|iPhone|Mobile|Sports</td>\n",
       "      <td>operating</td>\n",
       "      <td>GBR</td>\n",
       "      <td>Android</td>\n",
       "      <td>Social, Finance, Analytics, Advertising</td>\n",
       "      <td>1389404014.000</td>\n",
       "      <td>193</td>\n",
       "    </tr>\n",
       "    <tr>\n",
       "      <td>1</td>\n",
       "      <td>/organization/7digital</td>\n",
       "      <td>venture</td>\n",
       "      <td>8468328.000</td>\n",
       "      <td>7digital</td>\n",
       "      <td>Content Creators|Content Delivery|Licensing|Mu...</td>\n",
       "      <td>acquired</td>\n",
       "      <td>GBR</td>\n",
       "      <td>Content Creators</td>\n",
       "      <td>Entertainment</td>\n",
       "      <td>602784687.000</td>\n",
       "      <td>80</td>\n",
       "    </tr>\n",
       "    <tr>\n",
       "      <td>2</td>\n",
       "      <td>/organization/7digital</td>\n",
       "      <td>venture</td>\n",
       "      <td>10000000.000</td>\n",
       "      <td>7digital</td>\n",
       "      <td>Content Creators|Content Delivery|Licensing|Mu...</td>\n",
       "      <td>acquired</td>\n",
       "      <td>GBR</td>\n",
       "      <td>Content Creators</td>\n",
       "      <td>Entertainment</td>\n",
       "      <td>602784687.000</td>\n",
       "      <td>80</td>\n",
       "    </tr>\n",
       "    <tr>\n",
       "      <td>3</td>\n",
       "      <td>/organization/90min</td>\n",
       "      <td>venture</td>\n",
       "      <td>15000000.000</td>\n",
       "      <td>90min</td>\n",
       "      <td>Media|News|Publishing|Soccer|Sports</td>\n",
       "      <td>operating</td>\n",
       "      <td>GBR</td>\n",
       "      <td>Media</td>\n",
       "      <td>Entertainment</td>\n",
       "      <td>602784687.000</td>\n",
       "      <td>80</td>\n",
       "    </tr>\n",
       "    <tr>\n",
       "      <td>4</td>\n",
       "      <td>/organization/90min</td>\n",
       "      <td>venture</td>\n",
       "      <td>5800000.000</td>\n",
       "      <td>90min</td>\n",
       "      <td>Media|News|Publishing|Soccer|Sports</td>\n",
       "      <td>operating</td>\n",
       "      <td>GBR</td>\n",
       "      <td>Media</td>\n",
       "      <td>Entertainment</td>\n",
       "      <td>602784687.000</td>\n",
       "      <td>80</td>\n",
       "    </tr>\n",
       "  </tbody>\n",
       "</table>\n",
       "</div>"
      ],
      "text/plain": [
       "         company_permalink funding_round_type  raised_amount_usd       name  \\\n",
       "0  /organization/365scores            venture        5500000.000  365Scores   \n",
       "1   /organization/7digital            venture        8468328.000   7digital   \n",
       "2   /organization/7digital            venture       10000000.000   7digital   \n",
       "3      /organization/90min            venture       15000000.000      90min   \n",
       "4      /organization/90min            venture        5800000.000      90min   \n",
       "\n",
       "                                       category_list     status country_code  \\\n",
       "0                  Android|Apps|iPhone|Mobile|Sports  operating          GBR   \n",
       "1  Content Creators|Content Delivery|Licensing|Mu...   acquired          GBR   \n",
       "2  Content Creators|Content Delivery|Licensing|Mu...   acquired          GBR   \n",
       "3                Media|News|Publishing|Soccer|Sports  operating          GBR   \n",
       "4                Media|News|Publishing|Soccer|Sports  operating          GBR   \n",
       "\n",
       "     primary sector                              main_sector  \\\n",
       "0           Android  Social, Finance, Analytics, Advertising   \n",
       "1  Content Creators                            Entertainment   \n",
       "2  Content Creators                            Entertainment   \n",
       "3             Media                            Entertainment   \n",
       "4             Media                            Entertainment   \n",
       "\n",
       "   (raised_amount_usd, Total Amount Invested)  \\\n",
       "0                              1389404014.000   \n",
       "1                               602784687.000   \n",
       "2                               602784687.000   \n",
       "3                               602784687.000   \n",
       "4                               602784687.000   \n",
       "\n",
       "   (raised_amount_usd, Total No.of Investments)  \n",
       "0                                           193  \n",
       "1                                            80  \n",
       "2                                            80  \n",
       "3                                            80  \n",
       "4                                            80  "
      ]
     },
     "execution_count": 473,
     "metadata": {},
     "output_type": "execute_result"
    }
   ],
   "source": [
    "d2 = master_frame[(master_frame['country_code'] == 'GBR') & \n",
    "             (master_frame['raised_amount_usd'] >= 5000000) & \n",
    "             (master_frame['raised_amount_usd'] <= 15000000)]\n",
    "D2_grouped = d2[['raised_amount_usd','main_sector']].groupby('main_sector').agg(['sum', 'count']).rename(\n",
    "    columns={'sum':'Total Amount Invested','count' : 'Total No.of Investments'})\n",
    "D2 = d2.merge(D2_grouped, how='left', on ='main_sector')\n",
    "D2.head()"
   ]
  },
  {
   "cell_type": "markdown",
   "metadata": {},
   "source": [
    "### Country 3- IND"
   ]
  },
  {
   "cell_type": "code",
   "execution_count": 474,
   "metadata": {},
   "outputs": [
    {
     "data": {
      "text/html": [
       "<div>\n",
       "<style scoped>\n",
       "    .dataframe tbody tr th:only-of-type {\n",
       "        vertical-align: middle;\n",
       "    }\n",
       "\n",
       "    .dataframe tbody tr th {\n",
       "        vertical-align: top;\n",
       "    }\n",
       "\n",
       "    .dataframe thead th {\n",
       "        text-align: right;\n",
       "    }\n",
       "</style>\n",
       "<table border=\"1\" class=\"dataframe\">\n",
       "  <thead>\n",
       "    <tr style=\"text-align: right;\">\n",
       "      <th></th>\n",
       "      <th>company_permalink</th>\n",
       "      <th>funding_round_type</th>\n",
       "      <th>raised_amount_usd</th>\n",
       "      <th>name</th>\n",
       "      <th>category_list</th>\n",
       "      <th>status</th>\n",
       "      <th>country_code</th>\n",
       "      <th>primary sector</th>\n",
       "      <th>main_sector</th>\n",
       "      <th>(raised_amount_usd, Total Amount Invested)</th>\n",
       "      <th>(raised_amount_usd, Total No.of Investments)</th>\n",
       "    </tr>\n",
       "  </thead>\n",
       "  <tbody>\n",
       "    <tr>\n",
       "      <td>0</td>\n",
       "      <td>/organization/-fame</td>\n",
       "      <td>venture</td>\n",
       "      <td>10000000.000</td>\n",
       "      <td>#fame</td>\n",
       "      <td>Media</td>\n",
       "      <td>operating</td>\n",
       "      <td>IND</td>\n",
       "      <td>Media</td>\n",
       "      <td>Entertainment</td>\n",
       "      <td>350830000.000</td>\n",
       "      <td>47</td>\n",
       "    </tr>\n",
       "    <tr>\n",
       "      <td>1</td>\n",
       "      <td>/organization/1000lookz</td>\n",
       "      <td>venture</td>\n",
       "      <td>5000000.000</td>\n",
       "      <td>1000Lookz</td>\n",
       "      <td>Beauty</td>\n",
       "      <td>operating</td>\n",
       "      <td>IND</td>\n",
       "      <td>Beauty</td>\n",
       "      <td>Health</td>\n",
       "      <td>237740000.000</td>\n",
       "      <td>33</td>\n",
       "    </tr>\n",
       "    <tr>\n",
       "      <td>2</td>\n",
       "      <td>/organization/21diamonds-india</td>\n",
       "      <td>venture</td>\n",
       "      <td>6369507.000</td>\n",
       "      <td>21Diamonds</td>\n",
       "      <td>E-Commerce</td>\n",
       "      <td>operating</td>\n",
       "      <td>IND</td>\n",
       "      <td>E-Commerce</td>\n",
       "      <td>Others</td>\n",
       "      <td>1253409507.000</td>\n",
       "      <td>158</td>\n",
       "    </tr>\n",
       "    <tr>\n",
       "      <td>3</td>\n",
       "      <td>/organization/99games-online-private-limited</td>\n",
       "      <td>venture</td>\n",
       "      <td>5000000.000</td>\n",
       "      <td>99Games Online Private Limited</td>\n",
       "      <td>Games</td>\n",
       "      <td>operating</td>\n",
       "      <td>IND</td>\n",
       "      <td>Games</td>\n",
       "      <td>Entertainment</td>\n",
       "      <td>350830000.000</td>\n",
       "      <td>47</td>\n",
       "    </tr>\n",
       "    <tr>\n",
       "      <td>4</td>\n",
       "      <td>/organization/a-little-world</td>\n",
       "      <td>venture</td>\n",
       "      <td>6410000.000</td>\n",
       "      <td>A LITTLE WORLD</td>\n",
       "      <td>Finance</td>\n",
       "      <td>operating</td>\n",
       "      <td>IND</td>\n",
       "      <td>Finance</td>\n",
       "      <td>Social, Finance, Analytics, Advertising</td>\n",
       "      <td>780549550.000</td>\n",
       "      <td>106</td>\n",
       "    </tr>\n",
       "  </tbody>\n",
       "</table>\n",
       "</div>"
      ],
      "text/plain": [
       "                              company_permalink funding_round_type  \\\n",
       "0                           /organization/-fame            venture   \n",
       "1                       /organization/1000lookz            venture   \n",
       "2                /organization/21diamonds-india            venture   \n",
       "3  /organization/99games-online-private-limited            venture   \n",
       "4                  /organization/a-little-world            venture   \n",
       "\n",
       "   raised_amount_usd                            name category_list     status  \\\n",
       "0       10000000.000                           #fame         Media  operating   \n",
       "1        5000000.000                       1000Lookz        Beauty  operating   \n",
       "2        6369507.000                      21Diamonds    E-Commerce  operating   \n",
       "3        5000000.000  99Games Online Private Limited         Games  operating   \n",
       "4        6410000.000                  A LITTLE WORLD       Finance  operating   \n",
       "\n",
       "  country_code primary sector                              main_sector  \\\n",
       "0          IND          Media                            Entertainment   \n",
       "1          IND         Beauty                                   Health   \n",
       "2          IND     E-Commerce                                   Others   \n",
       "3          IND          Games                            Entertainment   \n",
       "4          IND        Finance  Social, Finance, Analytics, Advertising   \n",
       "\n",
       "   (raised_amount_usd, Total Amount Invested)  \\\n",
       "0                               350830000.000   \n",
       "1                               237740000.000   \n",
       "2                              1253409507.000   \n",
       "3                               350830000.000   \n",
       "4                               780549550.000   \n",
       "\n",
       "   (raised_amount_usd, Total No.of Investments)  \n",
       "0                                            47  \n",
       "1                                            33  \n",
       "2                                           158  \n",
       "3                                            47  \n",
       "4                                           106  "
      ]
     },
     "execution_count": 474,
     "metadata": {},
     "output_type": "execute_result"
    }
   ],
   "source": [
    "d3 = master_frame[(master_frame['country_code'] == 'IND') & \n",
    "             (master_frame['raised_amount_usd'] >= 5000000) & \n",
    "             (master_frame['raised_amount_usd'] <= 15000000)]\n",
    "D3_grouped = d3[['raised_amount_usd','main_sector']].groupby('main_sector').agg(['sum', 'count']).rename(\n",
    "    columns={'sum':'Total Amount Invested','count' : 'Total No.of Investments'})\n",
    "D3 = d3.merge(D3_grouped, how='left', on ='main_sector')\n",
    "D3.head()"
   ]
  },
  {
   "cell_type": "markdown",
   "metadata": {},
   "source": [
    "#### Total count of investments made in Top-3 countries each:"
   ]
  },
  {
   "cell_type": "code",
   "execution_count": 475,
   "metadata": {},
   "outputs": [
    {
     "name": "stdout",
     "output_type": "stream",
     "text": [
      " Total number of investments in USA(United States 'C1')):14095\n",
      " Total number of investments in GBR(United Kingdom 'C2'):842\n",
      " Total number of investments in IND(India 'C3'):493\n"
     ]
    }
   ],
   "source": [
    "print(\" Total number of investments in USA(United States 'C1')):{}\".format(D1.raised_amount_usd.count()))\n",
    "\n",
    "print(\" Total number of investments in GBR(United Kingdom 'C2'):{}\".format(D2.raised_amount_usd.count()))\n",
    "\n",
    "print(\" Total number of investments in IND(India 'C3'):{}\".format(D3.raised_amount_usd.count()))\n"
   ]
  },
  {
   "cell_type": "markdown",
   "metadata": {},
   "source": [
    "#### Total amount of Investment made in Top-3 countries each:"
   ]
  },
  {
   "cell_type": "code",
   "execution_count": 476,
   "metadata": {},
   "outputs": [
    {
     "name": "stdout",
     "output_type": "stream",
     "text": [
      "Total amount of investment in USA(United States):117733294664.0\n",
      "Total amount of investment in GBR(United Kingdom):6480228300.0\n",
      "Total amount of investment in IND(India):3774543602.0\n"
     ]
    }
   ],
   "source": [
    "print(\"Total amount of investment in USA(United States):{}\".format(round(D1.raised_amount_usd.sum(), 2)))\n",
    "\n",
    "print(\"Total amount of investment in GBR(United Kingdom):{}\".format(round(D2.raised_amount_usd.sum(), 2)))\n",
    "\n",
    "print(\"Total amount of investment in IND(India):{}\".format(round(D3.raised_amount_usd.sum(), 2)))"
   ]
  },
  {
   "cell_type": "markdown",
   "metadata": {},
   "source": [
    "##### Top sector,Second-best sector,Third-best sector In D1(USA)(based on count of investments):\n",
    "#### Number of investments in the top sector,Second-best sector,Third-best sector In D1"
   ]
  },
  {
   "cell_type": "code",
   "execution_count": 477,
   "metadata": {},
   "outputs": [
    {
     "data": {
      "text/html": [
       "<div>\n",
       "<style scoped>\n",
       "    .dataframe tbody tr th:only-of-type {\n",
       "        vertical-align: middle;\n",
       "    }\n",
       "\n",
       "    .dataframe tbody tr th {\n",
       "        vertical-align: top;\n",
       "    }\n",
       "\n",
       "    .dataframe thead tr th {\n",
       "        text-align: left;\n",
       "    }\n",
       "\n",
       "    .dataframe thead tr:last-of-type th {\n",
       "        text-align: right;\n",
       "    }\n",
       "</style>\n",
       "<table border=\"1\" class=\"dataframe\">\n",
       "  <thead>\n",
       "    <tr>\n",
       "      <th></th>\n",
       "      <th colspan=\"2\" halign=\"left\">raised_amount_usd</th>\n",
       "    </tr>\n",
       "    <tr>\n",
       "      <th></th>\n",
       "      <th>Total Amount Invested</th>\n",
       "      <th>Total No.of Investments</th>\n",
       "    </tr>\n",
       "    <tr>\n",
       "      <th>main_sector</th>\n",
       "      <th></th>\n",
       "      <th></th>\n",
       "    </tr>\n",
       "  </thead>\n",
       "  <tbody>\n",
       "    <tr>\n",
       "      <td>Automotive &amp; Sports</td>\n",
       "      <td>1759104361.000</td>\n",
       "      <td>228</td>\n",
       "    </tr>\n",
       "    <tr>\n",
       "      <td>Cleantech / Semiconductors</td>\n",
       "      <td>22526628192.000</td>\n",
       "      <td>2564</td>\n",
       "    </tr>\n",
       "    <tr>\n",
       "      <td>Entertainment</td>\n",
       "      <td>5764197982.000</td>\n",
       "      <td>724</td>\n",
       "    </tr>\n",
       "    <tr>\n",
       "      <td>Health</td>\n",
       "      <td>8931859357.000</td>\n",
       "      <td>1053</td>\n",
       "    </tr>\n",
       "    <tr>\n",
       "      <td>Manufacturing</td>\n",
       "      <td>8208553378.000</td>\n",
       "      <td>989</td>\n",
       "    </tr>\n",
       "    <tr>\n",
       "      <td>News, Search and Messaging</td>\n",
       "      <td>15269567428.000</td>\n",
       "      <td>1844</td>\n",
       "    </tr>\n",
       "    <tr>\n",
       "      <td>Others</td>\n",
       "      <td>28586007002.000</td>\n",
       "      <td>3403</td>\n",
       "    </tr>\n",
       "    <tr>\n",
       "      <td>Social, Finance, Analytics, Advertising</td>\n",
       "      <td>26687376964.000</td>\n",
       "      <td>3290</td>\n",
       "    </tr>\n",
       "  </tbody>\n",
       "</table>\n",
       "</div>"
      ],
      "text/plain": [
       "                                            raised_amount_usd  \\\n",
       "                                        Total Amount Invested   \n",
       "main_sector                                                     \n",
       "Automotive & Sports                            1759104361.000   \n",
       "Cleantech / Semiconductors                    22526628192.000   \n",
       "Entertainment                                  5764197982.000   \n",
       "Health                                         8931859357.000   \n",
       "Manufacturing                                  8208553378.000   \n",
       "News, Search and Messaging                    15269567428.000   \n",
       "Others                                        28586007002.000   \n",
       "Social, Finance, Analytics, Advertising       26687376964.000   \n",
       "\n",
       "                                                                 \n",
       "                                        Total No.of Investments  \n",
       "main_sector                                                      \n",
       "Automotive & Sports                                         228  \n",
       "Cleantech / Semiconductors                                 2564  \n",
       "Entertainment                                               724  \n",
       "Health                                                     1053  \n",
       "Manufacturing                                               989  \n",
       "News, Search and Messaging                                 1844  \n",
       "Others                                                     3403  \n",
       "Social, Finance, Analytics, Advertising                    3290  "
      ]
     },
     "execution_count": 477,
     "metadata": {},
     "output_type": "execute_result"
    }
   ],
   "source": [
    "D1_grouped"
   ]
  },
  {
   "cell_type": "markdown",
   "metadata": {},
   "source": [
    "#### Top sector,Second-best sector,Third-best sector In D2(GBR)(based on count of investments):\n",
    "#### Number of investments in the top sector,Second-best sector,Third-best sector In D2"
   ]
  },
  {
   "cell_type": "code",
   "execution_count": 478,
   "metadata": {},
   "outputs": [
    {
     "data": {
      "text/html": [
       "<div>\n",
       "<style scoped>\n",
       "    .dataframe tbody tr th:only-of-type {\n",
       "        vertical-align: middle;\n",
       "    }\n",
       "\n",
       "    .dataframe tbody tr th {\n",
       "        vertical-align: top;\n",
       "    }\n",
       "\n",
       "    .dataframe thead tr th {\n",
       "        text-align: left;\n",
       "    }\n",
       "\n",
       "    .dataframe thead tr:last-of-type th {\n",
       "        text-align: right;\n",
       "    }\n",
       "</style>\n",
       "<table border=\"1\" class=\"dataframe\">\n",
       "  <thead>\n",
       "    <tr>\n",
       "      <th></th>\n",
       "      <th colspan=\"2\" halign=\"left\">raised_amount_usd</th>\n",
       "    </tr>\n",
       "    <tr>\n",
       "      <th></th>\n",
       "      <th>Total Amount Invested</th>\n",
       "      <th>Total No.of Investments</th>\n",
       "    </tr>\n",
       "    <tr>\n",
       "      <th>main_sector</th>\n",
       "      <th></th>\n",
       "      <th></th>\n",
       "    </tr>\n",
       "  </thead>\n",
       "  <tbody>\n",
       "    <tr>\n",
       "      <td>Automotive &amp; Sports</td>\n",
       "      <td>217051565.000</td>\n",
       "      <td>26</td>\n",
       "    </tr>\n",
       "    <tr>\n",
       "      <td>Cleantech / Semiconductors</td>\n",
       "      <td>1265139665.000</td>\n",
       "      <td>151</td>\n",
       "    </tr>\n",
       "    <tr>\n",
       "      <td>Entertainment</td>\n",
       "      <td>602784687.000</td>\n",
       "      <td>80</td>\n",
       "    </tr>\n",
       "    <tr>\n",
       "      <td>Health</td>\n",
       "      <td>254537510.000</td>\n",
       "      <td>32</td>\n",
       "    </tr>\n",
       "    <tr>\n",
       "      <td>Manufacturing</td>\n",
       "      <td>411940335.000</td>\n",
       "      <td>52</td>\n",
       "    </tr>\n",
       "    <tr>\n",
       "      <td>News, Search and Messaging</td>\n",
       "      <td>735746235.000</td>\n",
       "      <td>97</td>\n",
       "    </tr>\n",
       "    <tr>\n",
       "      <td>Others</td>\n",
       "      <td>1603624289.000</td>\n",
       "      <td>211</td>\n",
       "    </tr>\n",
       "    <tr>\n",
       "      <td>Social, Finance, Analytics, Advertising</td>\n",
       "      <td>1389404014.000</td>\n",
       "      <td>193</td>\n",
       "    </tr>\n",
       "  </tbody>\n",
       "</table>\n",
       "</div>"
      ],
      "text/plain": [
       "                                            raised_amount_usd  \\\n",
       "                                        Total Amount Invested   \n",
       "main_sector                                                     \n",
       "Automotive & Sports                             217051565.000   \n",
       "Cleantech / Semiconductors                     1265139665.000   \n",
       "Entertainment                                   602784687.000   \n",
       "Health                                          254537510.000   \n",
       "Manufacturing                                   411940335.000   \n",
       "News, Search and Messaging                      735746235.000   \n",
       "Others                                         1603624289.000   \n",
       "Social, Finance, Analytics, Advertising        1389404014.000   \n",
       "\n",
       "                                                                 \n",
       "                                        Total No.of Investments  \n",
       "main_sector                                                      \n",
       "Automotive & Sports                                          26  \n",
       "Cleantech / Semiconductors                                  151  \n",
       "Entertainment                                                80  \n",
       "Health                                                       32  \n",
       "Manufacturing                                                52  \n",
       "News, Search and Messaging                                   97  \n",
       "Others                                                      211  \n",
       "Social, Finance, Analytics, Advertising                     193  "
      ]
     },
     "execution_count": 478,
     "metadata": {},
     "output_type": "execute_result"
    }
   ],
   "source": [
    "D2_grouped"
   ]
  },
  {
   "cell_type": "markdown",
   "metadata": {},
   "source": [
    "#### Top sector,Second-best sector,Third-best sector In D3(IND)(based on count of investments):\n",
    "#### Number of investments in the top sector,Second-best sector,Third-best sector In D3"
   ]
  },
  {
   "cell_type": "code",
   "execution_count": 479,
   "metadata": {},
   "outputs": [
    {
     "data": {
      "text/html": [
       "<div>\n",
       "<style scoped>\n",
       "    .dataframe tbody tr th:only-of-type {\n",
       "        vertical-align: middle;\n",
       "    }\n",
       "\n",
       "    .dataframe tbody tr th {\n",
       "        vertical-align: top;\n",
       "    }\n",
       "\n",
       "    .dataframe thead tr th {\n",
       "        text-align: left;\n",
       "    }\n",
       "\n",
       "    .dataframe thead tr:last-of-type th {\n",
       "        text-align: right;\n",
       "    }\n",
       "</style>\n",
       "<table border=\"1\" class=\"dataframe\">\n",
       "  <thead>\n",
       "    <tr>\n",
       "      <th></th>\n",
       "      <th colspan=\"2\" halign=\"left\">raised_amount_usd</th>\n",
       "    </tr>\n",
       "    <tr>\n",
       "      <th></th>\n",
       "      <th>Total Amount Invested</th>\n",
       "      <th>Total No.of Investments</th>\n",
       "    </tr>\n",
       "    <tr>\n",
       "      <th>main_sector</th>\n",
       "      <th></th>\n",
       "      <th></th>\n",
       "    </tr>\n",
       "  </thead>\n",
       "  <tbody>\n",
       "    <tr>\n",
       "      <td>Automotive &amp; Sports</td>\n",
       "      <td>141900000.000</td>\n",
       "      <td>14</td>\n",
       "    </tr>\n",
       "    <tr>\n",
       "      <td>Cleantech / Semiconductors</td>\n",
       "      <td>210380000.000</td>\n",
       "      <td>29</td>\n",
       "    </tr>\n",
       "    <tr>\n",
       "      <td>Entertainment</td>\n",
       "      <td>350830000.000</td>\n",
       "      <td>47</td>\n",
       "    </tr>\n",
       "    <tr>\n",
       "      <td>Health</td>\n",
       "      <td>237740000.000</td>\n",
       "      <td>33</td>\n",
       "    </tr>\n",
       "    <tr>\n",
       "      <td>Manufacturing</td>\n",
       "      <td>245900000.000</td>\n",
       "      <td>30</td>\n",
       "    </tr>\n",
       "    <tr>\n",
       "      <td>News, Search and Messaging</td>\n",
       "      <td>553834545.000</td>\n",
       "      <td>76</td>\n",
       "    </tr>\n",
       "    <tr>\n",
       "      <td>Others</td>\n",
       "      <td>1253409507.000</td>\n",
       "      <td>158</td>\n",
       "    </tr>\n",
       "    <tr>\n",
       "      <td>Social, Finance, Analytics, Advertising</td>\n",
       "      <td>780549550.000</td>\n",
       "      <td>106</td>\n",
       "    </tr>\n",
       "  </tbody>\n",
       "</table>\n",
       "</div>"
      ],
      "text/plain": [
       "                                            raised_amount_usd  \\\n",
       "                                        Total Amount Invested   \n",
       "main_sector                                                     \n",
       "Automotive & Sports                             141900000.000   \n",
       "Cleantech / Semiconductors                      210380000.000   \n",
       "Entertainment                                   350830000.000   \n",
       "Health                                          237740000.000   \n",
       "Manufacturing                                   245900000.000   \n",
       "News, Search and Messaging                      553834545.000   \n",
       "Others                                         1253409507.000   \n",
       "Social, Finance, Analytics, Advertising         780549550.000   \n",
       "\n",
       "                                                                 \n",
       "                                        Total No.of Investments  \n",
       "main_sector                                                      \n",
       "Automotive & Sports                                          14  \n",
       "Cleantech / Semiconductors                                   29  \n",
       "Entertainment                                                47  \n",
       "Health                                                       33  \n",
       "Manufacturing                                                30  \n",
       "News, Search and Messaging                                   76  \n",
       "Others                                                      158  \n",
       "Social, Finance, Analytics, Advertising                     106  "
      ]
     },
     "execution_count": 479,
     "metadata": {},
     "output_type": "execute_result"
    }
   ],
   "source": [
    "D3_grouped"
   ]
  },
  {
   "cell_type": "markdown",
   "metadata": {},
   "source": [
    "##### For the top sector in D1(USA) which company received the highest investment?"
   ]
  },
  {
   "cell_type": "code",
   "execution_count": 480,
   "metadata": {},
   "outputs": [
    {
     "name": "stdout",
     "output_type": "stream",
     "text": [
      "For the top sector in D1(USA) below company received the highest investment\n",
      "             raised_amount_usd\n",
      "name                          \n",
      "Virtustream       64300000.000\n",
      "\n",
      "\n"
     ]
    }
   ],
   "source": [
    "company1 = D1[D1['main_sector']=='Others']\n",
    "company1 = company1.pivot_table(values = 'raised_amount_usd', index = 'name', aggfunc = 'sum')\n",
    "company1 = company1.sort_values(by = 'raised_amount_usd', ascending = False)\n",
    "print('For the top sector in D1(USA) below company received the highest investment')\n",
    "print(company1.head(1))\n",
    "print('\\n')"
   ]
  },
  {
   "cell_type": "markdown",
   "metadata": {},
   "source": [
    "#### For the second top sector in D1(USA) which company received the highest investment?"
   ]
  },
  {
   "cell_type": "code",
   "execution_count": 481,
   "metadata": {},
   "outputs": [
    {
     "name": "stdout",
     "output_type": "stream",
     "text": [
      "For the Second top sector in D1(USA) below company received the highest investment\n",
      "                                 raised_amount_usd\n",
      "name                                              \n",
      "SST Inc. (Formerly ShotSpotter)       67933006.000\n"
     ]
    }
   ],
   "source": [
    "company2 = D1[D1['main_sector']=='Social, Finance, Analytics, Advertising']\n",
    "company2 = company2.pivot_table(values = 'raised_amount_usd', index = 'name', aggfunc = 'sum')\n",
    "company2 = company2.sort_values(by = 'raised_amount_usd', ascending = False)\n",
    "print('For the Second top sector in D1(USA) below company received the highest investment')\n",
    "print(company2.head(1))"
   ]
  },
  {
   "cell_type": "markdown",
   "metadata": {},
   "source": [
    "#### For the top sector in D2(GBR) which company received the highest investment?"
   ]
  },
  {
   "cell_type": "code",
   "execution_count": 482,
   "metadata": {},
   "outputs": [
    {
     "name": "stdout",
     "output_type": "stream",
     "text": [
      "For the top sector in D2(GBR) below company received the highest investment\n",
      "                raised_amount_usd\n",
      "name                             \n",
      "Electric Cloud       37000000.000\n",
      "\n",
      "\n"
     ]
    }
   ],
   "source": [
    "company1 = D2[D2['main_sector']=='Others']\n",
    "company1 = company1.pivot_table(values = 'raised_amount_usd', index = 'name', aggfunc = 'sum')\n",
    "company1 = company1.sort_values(by = 'raised_amount_usd', ascending = False)\n",
    "print('For the top sector in D2(GBR) below company received the highest investment')\n",
    "print(company1.head(1))\n",
    "print('\\n')"
   ]
  },
  {
   "cell_type": "markdown",
   "metadata": {},
   "source": [
    "#### For the second top sector in D2(GBR) which company received the highest investment?"
   ]
  },
  {
   "cell_type": "code",
   "execution_count": 483,
   "metadata": {},
   "outputs": [
    {
     "name": "stdout",
     "output_type": "stream",
     "text": [
      "For the Second top sector in D2(GBR) below company received the highest investment\n",
      "      raised_amount_usd\n",
      "name                   \n",
      "Zopa       37900000.000\n"
     ]
    }
   ],
   "source": [
    "company2 = D2[D2['main_sector']=='Social, Finance, Analytics, Advertising']\n",
    "company2 = company2.pivot_table(values = 'raised_amount_usd', index = 'name', aggfunc = 'sum')\n",
    "company2 = company2.sort_values(by = 'raised_amount_usd', ascending = False)\n",
    "print('For the Second top sector in D2(GBR) below company received the highest investment')\n",
    "print(company2.head(1))"
   ]
  },
  {
   "cell_type": "markdown",
   "metadata": {},
   "source": [
    "##### For the top sector in D3(IND) which company received the highest investment?"
   ]
  },
  {
   "cell_type": "code",
   "execution_count": 484,
   "metadata": {},
   "outputs": [
    {
     "name": "stdout",
     "output_type": "stream",
     "text": [
      "For the top sector in D3(IND) below company received the highest investment\n",
      "              raised_amount_usd\n",
      "name                           \n",
      "FirstCry.com       39000000.000\n",
      "\n",
      "\n"
     ]
    }
   ],
   "source": [
    "company1 = D3[D3['main_sector']=='Others']\n",
    "company1 = company1.pivot_table(values = 'raised_amount_usd', index = 'name', aggfunc = 'sum')\n",
    "company1 = company1.sort_values(by = 'raised_amount_usd', ascending = False)\n",
    "print('For the top sector in D3(IND) below company received the highest investment')\n",
    "print(company1.head(1))\n",
    "print('\\n')"
   ]
  },
  {
   "cell_type": "markdown",
   "metadata": {},
   "source": [
    "#### For the second top sector in D3(IND) which company received the highest investment?"
   ]
  },
  {
   "cell_type": "code",
   "execution_count": 485,
   "metadata": {},
   "outputs": [
    {
     "name": "stdout",
     "output_type": "stream",
     "text": [
      "For the Second top sector in D3(IND) below company received the highest investment\n",
      "         raised_amount_usd\n",
      "name                      \n",
      "GupShup       33000000.000\n"
     ]
    }
   ],
   "source": [
    "company2 = D3[D3['main_sector']=='News, Search and Messaging']\n",
    "company2 = company2.pivot_table(values = 'raised_amount_usd', index = 'name', aggfunc = 'sum')\n",
    "company2 = company2.sort_values(by = 'raised_amount_usd', ascending = False)\n",
    "print('For the Second top sector in D3(IND) below company received the highest investment')\n",
    "print(company2.head(1))"
   ]
  },
  {
   "cell_type": "markdown",
   "metadata": {},
   "source": [
    "#### create a new data frame with only these 3 countires data & top3 main sectors for furthur sector wise analysis"
   ]
  },
  {
   "cell_type": "code",
   "execution_count": 486,
   "metadata": {},
   "outputs": [
    {
     "data": {
      "text/html": [
       "<div>\n",
       "<style scoped>\n",
       "    .dataframe tbody tr th:only-of-type {\n",
       "        vertical-align: middle;\n",
       "    }\n",
       "\n",
       "    .dataframe tbody tr th {\n",
       "        vertical-align: top;\n",
       "    }\n",
       "\n",
       "    .dataframe thead th {\n",
       "        text-align: right;\n",
       "    }\n",
       "</style>\n",
       "<table border=\"1\" class=\"dataframe\">\n",
       "  <thead>\n",
       "    <tr style=\"text-align: right;\">\n",
       "      <th></th>\n",
       "      <th>company_permalink</th>\n",
       "      <th>funding_round_type</th>\n",
       "      <th>raised_amount_usd</th>\n",
       "      <th>name</th>\n",
       "      <th>category_list</th>\n",
       "      <th>status</th>\n",
       "      <th>country_code</th>\n",
       "      <th>primary sector</th>\n",
       "      <th>main_sector</th>\n",
       "    </tr>\n",
       "  </thead>\n",
       "  <tbody>\n",
       "    <tr>\n",
       "      <td>1</td>\n",
       "      <td>/organization/-qounter</td>\n",
       "      <td>venture</td>\n",
       "      <td>5000000.000</td>\n",
       "      <td>:Qounter</td>\n",
       "      <td>Application Platforms|Real Time|Social Network...</td>\n",
       "      <td>operating</td>\n",
       "      <td>USA</td>\n",
       "      <td>Application Platforms</td>\n",
       "      <td>News, Search and Messaging</td>\n",
       "    </tr>\n",
       "    <tr>\n",
       "      <td>3</td>\n",
       "      <td>/organization/004-technologies</td>\n",
       "      <td>venture</td>\n",
       "      <td>5000000.000</td>\n",
       "      <td>004 Technologies</td>\n",
       "      <td>Software</td>\n",
       "      <td>operating</td>\n",
       "      <td>USA</td>\n",
       "      <td>Software</td>\n",
       "      <td>Others</td>\n",
       "    </tr>\n",
       "    <tr>\n",
       "      <td>5</td>\n",
       "      <td>/organization/0xdata</td>\n",
       "      <td>venture</td>\n",
       "      <td>20000000.000</td>\n",
       "      <td>H2O.ai</td>\n",
       "      <td>Analytics</td>\n",
       "      <td>operating</td>\n",
       "      <td>USA</td>\n",
       "      <td>Analytics</td>\n",
       "      <td>Social, Finance, Analytics, Advertising</td>\n",
       "    </tr>\n",
       "    <tr>\n",
       "      <td>6</td>\n",
       "      <td>/organization/0xdata</td>\n",
       "      <td>venture</td>\n",
       "      <td>1700000.000</td>\n",
       "      <td>H2O.ai</td>\n",
       "      <td>Analytics</td>\n",
       "      <td>operating</td>\n",
       "      <td>USA</td>\n",
       "      <td>Analytics</td>\n",
       "      <td>Social, Finance, Analytics, Advertising</td>\n",
       "    </tr>\n",
       "    <tr>\n",
       "      <td>7</td>\n",
       "      <td>/organization/0xdata</td>\n",
       "      <td>venture</td>\n",
       "      <td>8900000.000</td>\n",
       "      <td>H2O.ai</td>\n",
       "      <td>Analytics</td>\n",
       "      <td>operating</td>\n",
       "      <td>USA</td>\n",
       "      <td>Analytics</td>\n",
       "      <td>Social, Finance, Analytics, Advertising</td>\n",
       "    </tr>\n",
       "  </tbody>\n",
       "</table>\n",
       "</div>"
      ],
      "text/plain": [
       "                company_permalink funding_round_type  raised_amount_usd  \\\n",
       "1          /organization/-qounter            venture        5000000.000   \n",
       "3  /organization/004-technologies            venture        5000000.000   \n",
       "5            /organization/0xdata            venture       20000000.000   \n",
       "6            /organization/0xdata            venture        1700000.000   \n",
       "7            /organization/0xdata            venture        8900000.000   \n",
       "\n",
       "               name                                      category_list  \\\n",
       "1          :Qounter  Application Platforms|Real Time|Social Network...   \n",
       "3  004 Technologies                                           Software   \n",
       "5            H2O.ai                                          Analytics   \n",
       "6            H2O.ai                                          Analytics   \n",
       "7            H2O.ai                                          Analytics   \n",
       "\n",
       "      status country_code         primary sector  \\\n",
       "1  operating          USA  Application Platforms   \n",
       "3  operating          USA               Software   \n",
       "5  operating          USA              Analytics   \n",
       "6  operating          USA              Analytics   \n",
       "7  operating          USA              Analytics   \n",
       "\n",
       "                               main_sector  \n",
       "1               News, Search and Messaging  \n",
       "3                                   Others  \n",
       "5  Social, Finance, Analytics, Advertising  \n",
       "6  Social, Finance, Analytics, Advertising  \n",
       "7  Social, Finance, Analytics, Advertising  "
      ]
     },
     "execution_count": 486,
     "metadata": {},
     "output_type": "execute_result"
    }
   ],
   "source": [
    "top3_englishspkcntr=top3_englishspkcntr[top3_englishspkcntr['main_sector'].isin(['Others','Social, Finance, Analytics, Advertising',\n",
    "                                                                              'Cleantech / Semiconductors','News, Search and Messaging'])]\n",
    "top3_englishspkcntr.head(5) "
   ]
  },
  {
   "cell_type": "markdown",
   "metadata": {},
   "source": [
    "# Checkpoint 6: Plot1"
   ]
  },
  {
   "cell_type": "markdown",
   "metadata": {},
   "source": [
    "##### plot showing the fraction of total investments (globally) in angel, venture, seed, and private equity, and the average amount of investment in each funding type."
   ]
  },
  {
   "cell_type": "code",
   "execution_count": 487,
   "metadata": {},
   "outputs": [
    {
     "data": {
      "image/png": "[encoded data removed]",
      "text/plain": [
       "<Figure size 1440x864 with 2 Axes>"
      ]
     },
     "metadata": {},
     "output_type": "display_data"
    }
   ],
   "source": [
    "# set a seaborn background style\n",
    "sns.set_style(\"whitegrid\")\n",
    "plt.figure(figsize=(20, 12))\n",
    "plt.subplot(1, 2, 1)\n",
    "sns.countplot(x=\"funding_round_type\", data=master_frame1)\n",
    "plt.title(\"Count of Investments\")\n",
    "plt.subplot(1, 2, 2)\n",
    "sns.barplot(y='raised_amount_usd', x=\"funding_round_type\", data=master_frame1, estimator=np.mean)\n",
    "plt.title(\"Average of Investments\")\n",
    "plt.axhline(y=5000000, linewidth=2, color = 'k')\n",
    "plt.axhline(y=15000000, linewidth=2, color = 'k')\n",
    "plt.show()"
   ]
  },
  {
   "cell_type": "markdown",
   "metadata": {},
   "source": [
    "# Checkpoint 6: Plot2"
   ]
  },
  {
   "cell_type": "markdown",
   "metadata": {},
   "source": [
    "###### plot showing the top 9 countries against the total amount of investments of funding type FT,here FT=venture"
   ]
  },
  {
   "cell_type": "code",
   "execution_count": 488,
   "metadata": {},
   "outputs": [
    {
     "data": {
      "image/png": "[encoded data removed]",
      "text/plain": [
       "<Figure size 1080x576 with 1 Axes>"
      ]
     },
     "metadata": {},
     "output_type": "display_data"
    }
   ],
   "source": [
    "plt.figure(figsize=(15, 8))\n",
    "sns.barplot(x=top9.index, y=top9.values.ravel())\n",
    "plt.ylabel(\"Total amount of investments\")\n",
    "plt.show()"
   ]
  },
  {
   "cell_type": "markdown",
   "metadata": {},
   "source": [
    "# Checkpoint 6: Plot3"
   ]
  },
  {
   "cell_type": "markdown",
   "metadata": {},
   "source": [
    "##### plot showing the number of investments in the top 3 sectors of the top 3 countries on one chart (for the chosen investment type FT)"
   ]
  },
  {
   "cell_type": "code",
   "execution_count": 491,
   "metadata": {},
   "outputs": [
    {
     "data": {
      "image/png": "[encoded data removed]",
      "text/plain": [
       "<Figure size 864x720 with 1 Axes>"
      ]
     },
     "metadata": {},
     "output_type": "display_data"
    }
   ],
   "source": [
    "top3_englishspkcntr.drop(top3_englishspkcntr[(top3_englishspkcntr['main_sector'] == \"News, Search and Messaging\") & ((top3_englishspkcntr['country_code'] == \"USA\") | (top3_englishspkcntr['country_code'] == \"GBR\"))  ].index , inplace=True)\n",
    "top3_englishspkcntr.drop(top3_englishspkcntr[(top3_englishspkcntr['main_sector'] == \"Cleantech / Semiconductors\") & (top3_englishspkcntr['country_code'] == \"IND\") ].index , inplace=True)\n",
    "plt.figure(figsize=(12, 10))\n",
    "sns.countplot(x='main_sector', hue=\"country_code\", data=top3_englishspkcntr)\n",
    "plt.ylabel('No.of Investments')\n",
    "plt.title(\"No.of investments made in top3 sectors for USA,GBR,IND\")\n",
    "plt.show()\n"
   ]
  },
  {
   "cell_type": "code",
   "execution_count": null,
   "metadata": {},
   "outputs": [],
   "source": []
  }
 ],
 "metadata": {
  "kernelspec": {
   "display_name": "Python 3",
   "language": "python",
   "name": "python3"
  },
  "language_info": {
   "codemirror_mode": {
    "name": "ipython",
    "version": 3
   },
   "file_extension": ".py",
   "mimetype": "text/x-python",
   "name": "python",
   "nbconvert_exporter": "python",
   "pygments_lexer": "ipython3",
   "version": "3.7.4"
  }
 },
 "nbformat": 4,
 "nbformat_minor": 2
}
